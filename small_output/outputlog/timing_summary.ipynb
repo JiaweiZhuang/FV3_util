{
 "cells": [
  {
   "cell_type": "markdown",
   "metadata": {},
   "source": [
    "## Get the last several lines containing timing info"
   ]
  },
  {
   "cell_type": "code",
   "execution_count": 1,
   "metadata": {},
   "outputs": [],
   "source": [
    "%%bash\n",
    "mkdir -p timing\n",
    "for x in 48 96 192 384 \n",
    "do \n",
    "    for y in 20 40 80 160 \n",
    "    do\n",
    "        tail C${x}L${y}_std.log > timing/C${x}L${y}.log\n",
    "    done\n",
    "done"
   ]
  },
  {
   "cell_type": "markdown",
   "metadata": {},
   "source": [
    "## Extract important numbers"
   ]
  },
  {
   "cell_type": "code",
   "execution_count": 2,
   "metadata": {},
   "outputs": [],
   "source": [
    "import numpy as np\n",
    "import pandas as pd"
   ]
  },
  {
   "cell_type": "code",
   "execution_count": 3,
   "metadata": {},
   "outputs": [],
   "source": [
    "var_list = ['plume0{0}'.format(i) for i in range(1,5)]\n",
    "\n",
    "Vres_list = [20,40,80,160]\n",
    "Hres_list = [48,96,192,384]\n",
    "\n",
    "Vlabels = ['L{0}'.format(r) for r in Vres_list]\n",
    "Hlabels = ['C{0}'.format(r) for r in Hres_list]"
   ]
  },
  {
   "cell_type": "code",
   "execution_count": 4,
   "metadata": {},
   "outputs": [],
   "source": [
    "def get_timing(logfile):\n",
    "    with open(logfile, 'r') as fi:     \n",
    "        for ln in fi:\n",
    "            if 'PEs' in ln:\n",
    "                CPU = ln.split()[-2]\n",
    "            if 'Total runtime' in ln:\n",
    "                time = ln.split()[4]\n",
    "\n",
    "    return CPU, time"
   ]
  },
  {
   "cell_type": "code",
   "execution_count": 5,
   "metadata": {},
   "outputs": [],
   "source": [
    "CPU_list = np.empty([4,4], dtype=int)\n",
    "timing_list = np.empty([4,4])\n",
    "\n",
    "for i, Hres in enumerate(Hres_list):\n",
    "    for j, Vres in enumerate(Vres_list):\n",
    "        logfile = './timing/'+'C{0}L{1}'.format(Hres,Vres)+'.log'\n",
    "        CPU_list[i,j], timing_list[i,j] = get_timing(logfile)"
   ]
  },
  {
   "cell_type": "code",
   "execution_count": 6,
   "metadata": {},
   "outputs": [
    {
     "data": {
      "text/html": [
       "<div>\n",
       "<style scoped>\n",
       "    .dataframe tbody tr th:only-of-type {\n",
       "        vertical-align: middle;\n",
       "    }\n",
       "\n",
       "    .dataframe tbody tr th {\n",
       "        vertical-align: top;\n",
       "    }\n",
       "\n",
       "    .dataframe thead th {\n",
       "        text-align: right;\n",
       "    }\n",
       "</style>\n",
       "<table border=\"1\" class=\"dataframe\">\n",
       "  <thead>\n",
       "    <tr style=\"text-align: right;\">\n",
       "      <th></th>\n",
       "      <th>L20</th>\n",
       "      <th>L40</th>\n",
       "      <th>L80</th>\n",
       "      <th>L160</th>\n",
       "    </tr>\n",
       "  </thead>\n",
       "  <tbody>\n",
       "    <tr>\n",
       "      <th>C48</th>\n",
       "      <td>24</td>\n",
       "      <td>24</td>\n",
       "      <td>24</td>\n",
       "      <td>24</td>\n",
       "    </tr>\n",
       "    <tr>\n",
       "      <th>C96</th>\n",
       "      <td>24</td>\n",
       "      <td>24</td>\n",
       "      <td>24</td>\n",
       "      <td>24</td>\n",
       "    </tr>\n",
       "    <tr>\n",
       "      <th>C192</th>\n",
       "      <td>96</td>\n",
       "      <td>96</td>\n",
       "      <td>96</td>\n",
       "      <td>96</td>\n",
       "    </tr>\n",
       "    <tr>\n",
       "      <th>C384</th>\n",
       "      <td>384</td>\n",
       "      <td>384</td>\n",
       "      <td>384</td>\n",
       "      <td>384</td>\n",
       "    </tr>\n",
       "  </tbody>\n",
       "</table>\n",
       "</div>"
      ],
      "text/plain": [
       "      L20  L40  L80  L160\n",
       "C48    24   24   24    24\n",
       "C96    24   24   24    24\n",
       "C192   96   96   96    96\n",
       "C384  384  384  384   384"
      ]
     },
     "execution_count": 6,
     "metadata": {},
     "output_type": "execute_result"
    }
   ],
   "source": [
    "df_CPU = pd.DataFrame(CPU_list, index=Hlabels, columns=Vlabels)\n",
    "df_CPU"
   ]
  },
  {
   "cell_type": "code",
   "execution_count": 7,
   "metadata": {},
   "outputs": [
    {
     "data": {
      "text/html": [
       "<div>\n",
       "<style scoped>\n",
       "    .dataframe tbody tr th:only-of-type {\n",
       "        vertical-align: middle;\n",
       "    }\n",
       "\n",
       "    .dataframe tbody tr th {\n",
       "        vertical-align: top;\n",
       "    }\n",
       "\n",
       "    .dataframe thead th {\n",
       "        text-align: right;\n",
       "    }\n",
       "</style>\n",
       "<table border=\"1\" class=\"dataframe\">\n",
       "  <thead>\n",
       "    <tr style=\"text-align: right;\">\n",
       "      <th></th>\n",
       "      <th>L20</th>\n",
       "      <th>L40</th>\n",
       "      <th>L80</th>\n",
       "      <th>L160</th>\n",
       "    </tr>\n",
       "  </thead>\n",
       "  <tbody>\n",
       "    <tr>\n",
       "      <th>C48</th>\n",
       "      <td>30.624347</td>\n",
       "      <td>61.959384</td>\n",
       "      <td>125.105767</td>\n",
       "      <td>264.075614</td>\n",
       "    </tr>\n",
       "    <tr>\n",
       "      <th>C96</th>\n",
       "      <td>216.214940</td>\n",
       "      <td>434.180154</td>\n",
       "      <td>858.102888</td>\n",
       "      <td>1762.346824</td>\n",
       "    </tr>\n",
       "    <tr>\n",
       "      <th>C192</th>\n",
       "      <td>435.571059</td>\n",
       "      <td>863.830416</td>\n",
       "      <td>1770.668429</td>\n",
       "      <td>3591.502241</td>\n",
       "    </tr>\n",
       "    <tr>\n",
       "      <th>C384</th>\n",
       "      <td>834.573299</td>\n",
       "      <td>1726.190340</td>\n",
       "      <td>3576.954237</td>\n",
       "      <td>6798.907089</td>\n",
       "    </tr>\n",
       "  </tbody>\n",
       "</table>\n",
       "</div>"
      ],
      "text/plain": [
       "             L20          L40          L80         L160\n",
       "C48    30.624347    61.959384   125.105767   264.075614\n",
       "C96   216.214940   434.180154   858.102888  1762.346824\n",
       "C192  435.571059   863.830416  1770.668429  3591.502241\n",
       "C384  834.573299  1726.190340  3576.954237  6798.907089"
      ]
     },
     "execution_count": 7,
     "metadata": {},
     "output_type": "execute_result"
    }
   ],
   "source": [
    "df_time = pd.DataFrame(timing_list, index=Hlabels, columns=Vlabels)\n",
    "df_time"
   ]
  },
  {
   "cell_type": "markdown",
   "metadata": {},
   "source": [
    "## Compute CPU x time and derivation from theory"
   ]
  },
  {
   "cell_type": "code",
   "execution_count": 8,
   "metadata": {},
   "outputs": [
    {
     "data": {
      "text/html": [
       "<div>\n",
       "<style scoped>\n",
       "    .dataframe tbody tr th:only-of-type {\n",
       "        vertical-align: middle;\n",
       "    }\n",
       "\n",
       "    .dataframe tbody tr th {\n",
       "        vertical-align: top;\n",
       "    }\n",
       "\n",
       "    .dataframe thead th {\n",
       "        text-align: right;\n",
       "    }\n",
       "</style>\n",
       "<table border=\"1\" class=\"dataframe\">\n",
       "  <thead>\n",
       "    <tr style=\"text-align: right;\">\n",
       "      <th></th>\n",
       "      <th>L20</th>\n",
       "      <th>L40</th>\n",
       "      <th>L80</th>\n",
       "      <th>L160</th>\n",
       "    </tr>\n",
       "  </thead>\n",
       "  <tbody>\n",
       "    <tr>\n",
       "      <th>C48</th>\n",
       "      <td>1.000000</td>\n",
       "      <td>2.023207</td>\n",
       "      <td>4.085173</td>\n",
       "      <td>8.623061</td>\n",
       "    </tr>\n",
       "    <tr>\n",
       "      <th>C96</th>\n",
       "      <td>7.060230</td>\n",
       "      <td>14.177613</td>\n",
       "      <td>28.020284</td>\n",
       "      <td>57.547246</td>\n",
       "    </tr>\n",
       "    <tr>\n",
       "      <th>C192</th>\n",
       "      <td>56.892127</td>\n",
       "      <td>112.829236</td>\n",
       "      <td>231.275910</td>\n",
       "      <td>469.104173</td>\n",
       "    </tr>\n",
       "    <tr>\n",
       "      <th>C384</th>\n",
       "      <td>436.031266</td>\n",
       "      <td>901.865612</td>\n",
       "      <td>1868.815939</td>\n",
       "      <td>3552.157812</td>\n",
       "    </tr>\n",
       "  </tbody>\n",
       "</table>\n",
       "</div>"
      ],
      "text/plain": [
       "             L20         L40          L80         L160\n",
       "C48     1.000000    2.023207     4.085173     8.623061\n",
       "C96     7.060230   14.177613    28.020284    57.547246\n",
       "C192   56.892127  112.829236   231.275910   469.104173\n",
       "C384  436.031266  901.865612  1868.815939  3552.157812"
      ]
     },
     "execution_count": 8,
     "metadata": {},
     "output_type": "execute_result"
    }
   ],
   "source": [
    "df_CPUtime = df_time*df_CPU\n",
    "df_CPUtime /= df_CPUtime.values.min() # normalize\n",
    "df_CPUtime"
   ]
  },
  {
   "cell_type": "code",
   "execution_count": 9,
   "metadata": {},
   "outputs": [
    {
     "data": {
      "text/html": [
       "<div>\n",
       "<style scoped>\n",
       "    .dataframe tbody tr th:only-of-type {\n",
       "        vertical-align: middle;\n",
       "    }\n",
       "\n",
       "    .dataframe tbody tr th {\n",
       "        vertical-align: top;\n",
       "    }\n",
       "\n",
       "    .dataframe thead th {\n",
       "        text-align: right;\n",
       "    }\n",
       "</style>\n",
       "<table border=\"1\" class=\"dataframe\">\n",
       "  <thead>\n",
       "    <tr style=\"text-align: right;\">\n",
       "      <th></th>\n",
       "      <th>L20</th>\n",
       "      <th>L40</th>\n",
       "      <th>L80</th>\n",
       "      <th>L160</th>\n",
       "    </tr>\n",
       "  </thead>\n",
       "  <tbody>\n",
       "    <tr>\n",
       "      <th>C48</th>\n",
       "      <td>1</td>\n",
       "      <td>2</td>\n",
       "      <td>4</td>\n",
       "      <td>8</td>\n",
       "    </tr>\n",
       "    <tr>\n",
       "      <th>C96</th>\n",
       "      <td>8</td>\n",
       "      <td>16</td>\n",
       "      <td>32</td>\n",
       "      <td>64</td>\n",
       "    </tr>\n",
       "    <tr>\n",
       "      <th>C192</th>\n",
       "      <td>64</td>\n",
       "      <td>128</td>\n",
       "      <td>256</td>\n",
       "      <td>512</td>\n",
       "    </tr>\n",
       "    <tr>\n",
       "      <th>C384</th>\n",
       "      <td>512</td>\n",
       "      <td>1024</td>\n",
       "      <td>2048</td>\n",
       "      <td>4096</td>\n",
       "    </tr>\n",
       "  </tbody>\n",
       "</table>\n",
       "</div>"
      ],
      "text/plain": [
       "      L20   L40   L80  L160\n",
       "C48     1     2     4     8\n",
       "C96     8    16    32    64\n",
       "C192   64   128   256   512\n",
       "C384  512  1024  2048  4096"
      ]
     },
     "execution_count": 9,
     "metadata": {},
     "output_type": "execute_result"
    }
   ],
   "source": [
    "# ideal curve following dx^3 * dz=P\n",
    "\n",
    "z_inc = 2**np.arange(4)\n",
    "x_inc = 8**np.arange(4)\n",
    "\n",
    "df_theory = pd.DataFrame(z_inc * x_inc.reshape(-1,1), index=Hlabels, columns=Vlabels)\n",
    "df_theory "
   ]
  },
  {
   "cell_type": "code",
   "execution_count": 10,
   "metadata": {},
   "outputs": [
    {
     "data": {
      "text/html": [
       "<div>\n",
       "<style scoped>\n",
       "    .dataframe tbody tr th:only-of-type {\n",
       "        vertical-align: middle;\n",
       "    }\n",
       "\n",
       "    .dataframe tbody tr th {\n",
       "        vertical-align: top;\n",
       "    }\n",
       "\n",
       "    .dataframe thead th {\n",
       "        text-align: right;\n",
       "    }\n",
       "</style>\n",
       "<table border=\"1\" class=\"dataframe\">\n",
       "  <thead>\n",
       "    <tr style=\"text-align: right;\">\n",
       "      <th></th>\n",
       "      <th>L20</th>\n",
       "      <th>L40</th>\n",
       "      <th>L80</th>\n",
       "      <th>L160</th>\n",
       "    </tr>\n",
       "  </thead>\n",
       "  <tbody>\n",
       "    <tr>\n",
       "      <th>C48</th>\n",
       "      <td>1.000000</td>\n",
       "      <td>1.011603</td>\n",
       "      <td>1.021293</td>\n",
       "      <td>1.077883</td>\n",
       "    </tr>\n",
       "    <tr>\n",
       "      <th>C96</th>\n",
       "      <td>0.882529</td>\n",
       "      <td>0.886101</td>\n",
       "      <td>0.875634</td>\n",
       "      <td>0.899176</td>\n",
       "    </tr>\n",
       "    <tr>\n",
       "      <th>C192</th>\n",
       "      <td>0.888939</td>\n",
       "      <td>0.881478</td>\n",
       "      <td>0.903422</td>\n",
       "      <td>0.916219</td>\n",
       "    </tr>\n",
       "    <tr>\n",
       "      <th>C384</th>\n",
       "      <td>0.851624</td>\n",
       "      <td>0.880728</td>\n",
       "      <td>0.912508</td>\n",
       "      <td>0.867226</td>\n",
       "    </tr>\n",
       "  </tbody>\n",
       "</table>\n",
       "</div>"
      ],
      "text/plain": [
       "           L20       L40       L80      L160\n",
       "C48   1.000000  1.011603  1.021293  1.077883\n",
       "C96   0.882529  0.886101  0.875634  0.899176\n",
       "C192  0.888939  0.881478  0.903422  0.916219\n",
       "C384  0.851624  0.880728  0.912508  0.867226"
      ]
     },
     "execution_count": 10,
     "metadata": {},
     "output_type": "execute_result"
    }
   ],
   "source": [
    "# deviation from theory\n",
    "df_CPUtime / df_theory "
   ]
  },
  {
   "cell_type": "markdown",
   "metadata": {},
   "source": [
    "## Dump to files"
   ]
  },
  {
   "cell_type": "code",
   "execution_count": 11,
   "metadata": {},
   "outputs": [],
   "source": [
    "df_CPU.to_csv('cpu.csv')\n",
    "df_time.to_csv('time.csv')\n",
    "df_CPUtime.to_csv('cpu_x_time.csv')\n",
    "df_theory.to_csv('theory.csv')"
   ]
  }
 ],
 "metadata": {
  "kernelspec": {
   "display_name": "Python 3",
   "language": "python",
   "name": "python3"
  },
  "language_info": {
   "codemirror_mode": {
    "name": "ipython",
    "version": 3
   },
   "file_extension": ".py",
   "mimetype": "text/x-python",
   "name": "python",
   "nbconvert_exporter": "python",
   "pygments_lexer": "ipython3",
   "version": "3.6.2"
  }
 },
 "nbformat": 4,
 "nbformat_minor": 2
}
