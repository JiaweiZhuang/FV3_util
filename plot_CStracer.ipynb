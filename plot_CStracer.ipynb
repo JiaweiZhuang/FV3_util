{
 "cells": [
  {
   "cell_type": "code",
   "execution_count": null,
   "metadata": {
    "collapsed": true
   },
   "outputs": [],
   "source": [
    "%matplotlib inline\n",
    "import numpy as np\n",
    "import xarray as xr\n",
    "import cartopy.crs as ccrs\n",
    "import matplotlib.pyplot as plt"
   ]
  },
  {
   "cell_type": "markdown",
   "metadata": {},
   "source": [
    "- Open FV3 tiles and put into a single list"
   ]
  },
  {
   "cell_type": "code",
   "execution_count": null,
   "metadata": {},
   "outputs": [],
   "source": [
    "datadir = \"/n/home03/zhuangjw/FV3/outputdata/c48/c48n160/\"\n",
    "\n",
    "dsarr=[None]*6\n",
    "for i in range(6):\n",
    "    print(\"opening no.{0} tile...\".format(i+1))\n",
    "    itile=str(i+1)\n",
    "    ds = xr.open_dataset(datadir+\"tracer_daily.tile\"+itile+\".nc\",decode_times=False)\n",
    "    grid_temp = xr.open_dataset(datadir+\"atmos_static.tile\"+itile+\".nc\",decode_times=False)\n",
    "\n",
    "    ds[\"grid_lont\"] = grid_temp[\"grid_lont\"]\n",
    "    ds[\"grid_latt\"] = grid_temp[\"grid_latt\"]\n",
    "    ds.set_coords([\"grid_lont\",\"grid_latt\"],inplace=True)\n",
    "    \n",
    "    dsarr[i]=ds.copy()"
   ]
  },
  {
   "cell_type": "markdown",
   "metadata": {},
   "source": [
    "- Directly plot on cube-sphere"
   ]
  },
  {
   "cell_type": "code",
   "execution_count": null,
   "metadata": {},
   "outputs": [],
   "source": [
    "varname=\"plume05\"\n",
    "\n",
    "plt.figure(figsize=(12,6));\n",
    "ax = plt.axes(projection=ccrs.PlateCarree());\n",
    "\n",
    "for i in range(6):\n",
    "    # mask cells near boundaries otherwise they will span the entire map \n",
    "    mask_temp = np.abs(dsarr[i][\"grid_lont\"] - 180) > 5\n",
    "    dsarr[i][varname].where(mask_temp)[-1,-20].plot.pcolormesh(ax=ax, transform=ccrs.PlateCarree(),\n",
    "                                                  x='grid_lont', y='grid_latt', add_colorbar=False,\n",
    "                                                  vmin=0,vmax=0.1,cmap='jet');\n",
    "ax.coastlines();   \n",
    "ax.set_global();"
   ]
  },
  {
   "cell_type": "markdown",
   "metadata": {},
   "source": [
    "- Plot zonal mean without regridding to lat-lon"
   ]
  },
  {
   "cell_type": "code",
   "execution_count": null,
   "metadata": {},
   "outputs": [],
   "source": [
    "ds_combine = xr.concat(dsarr,dim='grid_yt')\n",
    "\n",
    "# define two-degree wide bins\n",
    "lon_bins = np.arange(0, 361, 2)\n",
    "\n",
    "# define a label for each bin corresponding to the center\n",
    "lon_center = np.arange(1, 360, 2)\n",
    "\n",
    "# group according to those bins\n",
    "group = ds_combine[varname].groupby_bins('grid_lont', lon_bins, labels=lon_center)\n",
    "\n",
    "# inspect the group dimension\n",
    "list(group)[0][1].dims"
   ]
  },
  {
   "cell_type": "code",
   "execution_count": null,
   "metadata": {},
   "outputs": [],
   "source": [
    "# take the meridional mean and inspect the new dimension\n",
    "m_mean = group.mean(dim=\"stacked_grid_yt_grid_xt\")\n",
    "m_mean.dims"
   ]
  },
  {
   "cell_type": "code",
   "execution_count": null,
   "metadata": {},
   "outputs": [],
   "source": [
    "# plot the meridional mean\n",
    "plt.figure(figsize=(12,6));\n",
    "\n",
    "m_mean[-1].sel(pfull=slice(500,1000)).plot.pcolormesh(yincrease=False,vmin=0,cmap='jet')"
   ]
  },
  {
   "cell_type": "code",
   "execution_count": null,
   "metadata": {
    "collapsed": true
   },
   "outputs": [],
   "source": []
  }
 ],
 "metadata": {
  "kernelspec": {
   "display_name": "Python 3",
   "language": "python",
   "name": "python3"
  },
  "language_info": {
   "codemirror_mode": {
    "name": "ipython",
    "version": 3
   },
   "file_extension": ".py",
   "mimetype": "text/x-python",
   "name": "python",
   "nbconvert_exporter": "python",
   "pygments_lexer": "ipython3",
   "version": "3.6.1"
  }
 },
 "nbformat": 4,
 "nbformat_minor": 2
}
