{
 "cells": [
  {
   "cell_type": "markdown",
   "metadata": {},
   "source": [
    "## We need the lat-lon wind for plotting streamlines and calculating Liapunov components"
   ]
  },
  {
   "cell_type": "code",
   "execution_count": 1,
   "metadata": {
    "collapsed": true
   },
   "outputs": [],
   "source": [
    "%matplotlib inline\n",
    "import numpy as np\n",
    "import matplotlib.pyplot as plt\n",
    "import xarray as xr\n",
    "import cartopy.crs as ccrs\n",
    "\n",
    "import cubedsphere as cs\n",
    "import xesmf as xe"
   ]
  },
  {
   "cell_type": "code",
   "execution_count": 2,
   "metadata": {},
   "outputs": [
    {
     "data": {
      "text/plain": [
       "<xarray.Dataset>\n",
       "Dimensions:  (pfull: 160, phalf: 161, tile: 6, time: 8, x: 384, x_b: 385, y: 384, y_b: 385)\n",
       "Coordinates:\n",
       "  * x        (x) float64 1.0 2.0 3.0 4.0 5.0 6.0 7.0 8.0 9.0 10.0 11.0 12.0 ...\n",
       "  * y        (y) float64 1.0 2.0 3.0 4.0 5.0 6.0 7.0 8.0 9.0 10.0 11.0 12.0 ...\n",
       "  * pfull    (pfull) float64 2.205 6.781 13.27 19.62 25.92 32.21 38.49 44.76 ...\n",
       "  * phalf    (phalf) float64 1.0 4.125 10.39 16.65 22.92 29.18 35.44 41.71 ...\n",
       "  * time     (time) float64 9.0 10.0 11.0 12.0 13.0 14.0 15.0 16.0\n",
       "    lon      (tile, y, x) float32 305.097 305.293 305.488 305.685 305.881 ...\n",
       "    lat      (tile, y, x) float32 -35.2184 -35.3098 -35.4009 -35.4917 ...\n",
       "  * x_b      (x_b) float64 1.0 2.0 3.0 4.0 5.0 6.0 7.0 8.0 9.0 10.0 11.0 ...\n",
       "  * y_b      (y_b) float64 1.0 2.0 3.0 4.0 5.0 6.0 7.0 8.0 9.0 10.0 11.0 ...\n",
       "    lon_b    (tile, y_b, x_b) float32 305.0 305.195 305.391 305.586 305.783 ...\n",
       "    lat_b    (tile, y_b, x_b) float32 -35.2644 -35.3561 -35.4474 -35.5385 ...\n",
       "    area     (tile, y, x) float32 3.6204e+08 3.62862e+08 3.63679e+08 ...\n",
       "Dimensions without coordinates: tile\n",
       "Data variables:\n",
       "    ucomp    (tile, time, pfull, y, x) float64 25.89 26.1 26.14 26.22 26.26 ...\n",
       "    vcomp    (tile, time, pfull, y, x) float64 0.1844 0.2876 0.2614 0.2586 ...\n",
       "    vorts    (tile, time, y, x) float64 -1.733e-05 -1.015e-05 1.271e-05 ...\n",
       "    us       (tile, time, y, x) float64 3.339 3.226 3.209 3.351 3.633 3.852 ...\n",
       "    vs       (tile, time, y, x) float64 0.6851 0.5444 0.3997 0.3301 0.3756 ...\n",
       "    vort850  (tile, time, y, x) float64 1.3e-05 6.056e-06 -3.828e-06 ...\n",
       "    u50      (tile, time, y, x) float64 28.18 28.3 28.44 28.56 28.65 28.71 ...\n",
       "    u200     (tile, time, y, x) float64 29.77 29.61 29.54 29.56 29.68 30.02 ...\n",
       "    u500     (tile, time, y, x) float64 24.91 24.95 25.18 25.55 25.79 25.79 ...\n",
       "    u700     (tile, time, y, x) float64 19.29 19.31 19.4 19.52 19.67 19.85 ...\n",
       "    u850     (tile, time, y, x) float64 12.17 12.27 12.32 12.25 12.11 11.99 ...\n",
       "    v50      (tile, time, y, x) float64 -0.06763 -0.2157 -0.3602 -0.4472 ...\n",
       "    v200     (tile, time, y, x) float64 1.352 1.539 1.296 0.6413 -0.3483 ...\n",
       "    v500     (tile, time, y, x) float64 0.6442 0.3241 -0.05412 -0.2952 ...\n",
       "    v700     (tile, time, y, x) float64 -0.4262 -0.5692 -0.7016 -0.8189 ...\n",
       "    v850     (tile, time, y, x) float64 -0.2222 -0.1208 -0.03927 0.06228 ...\n",
       "    omg200   (tile, time, y, x) float64 -0.05384 -0.08079 -0.08313 -0.04532 ...\n",
       "    omg500   (tile, time, y, x) float64 0.03195 0.03714 0.03053 0.01818 ...\n",
       "    omg850   (tile, time, y, x) float64 -0.003228 0.0003713 -0.008683 ...\n",
       "Attributes:\n",
       "    filename:   winds_daily.tile1.nc\n",
       "    title:      Cubed-Sphere_C48\n",
       "    grid_type:  regular\n",
       "    grid_tile:  N/A"
      ]
     },
     "execution_count": 2,
     "metadata": {},
     "output_type": "execute_result"
    }
   ],
   "source": [
    "maindir = '/n/home03/zhuangjw/seasasfs/fromPleiades/output_FV3/C384/C384L160/'\n",
    "ds = cs.open_FV3data(maindir,'winds_daily')\n",
    "ds"
   ]
  },
  {
   "cell_type": "code",
   "execution_count": 7,
   "metadata": {},
   "outputs": [
    {
     "data": {
      "text/plain": [
       "<xarray.Dataset>\n",
       "Dimensions:  (x: 360, x_b: 361, y: 180, y_b: 181)\n",
       "Coordinates:\n",
       "    lon      (y, x) float64 -179.5 -178.5 -177.5 -176.5 -175.5 -174.5 -173.5 ...\n",
       "    lat      (y, x) float64 -89.5 -89.5 -89.5 -89.5 -89.5 -89.5 -89.5 -89.5 ...\n",
       "    lon_b    (y_b, x_b) int64 -180 -179 -178 -177 -176 -175 -174 -173 -172 ...\n",
       "    lat_b    (y_b, x_b) int64 -90 -90 -90 -90 -90 -90 -90 -90 -90 -90 -90 ...\n",
       "Dimensions without coordinates: x, x_b, y, y_b\n",
       "Data variables:\n",
       "    *empty*"
      ]
     },
     "execution_count": 7,
     "metadata": {},
     "output_type": "execute_result"
    }
   ],
   "source": [
    "ds_out = xe.grid_global(1, 1)\n",
    "ds_out"
   ]
  },
  {
   "cell_type": "code",
   "execution_count": 8,
   "metadata": {
    "collapsed": true
   },
   "outputs": [],
   "source": [
    "def C2L(ds_in, ds_out, dr_in):\n",
    "    \n",
    "    for k in range(6):\n",
    "        print(k, end=' ')\n",
    "        dr_temp = xe.regrid(ds_in.isel(tile=k), ds_out, \n",
    "                            dr_in.isel(tile=k), method='conservative')\n",
    "        if k==0:\n",
    "            dr_out = dr_temp\n",
    "        else:\n",
    "            dr_out += dr_temp\n",
    "    \n",
    "    return  dr_out"
   ]
  },
  {
   "cell_type": "code",
   "execution_count": 9,
   "metadata": {
    "collapsed": true
   },
   "outputs": [],
   "source": [
    "# load into memory before regridding\n",
    "dr_u = ds['u700'].load()\n",
    "dr_v = ds['v700'].load()"
   ]
  },
  {
   "cell_type": "code",
   "execution_count": 10,
   "metadata": {},
   "outputs": [
    {
     "name": "stdout",
     "output_type": "stream",
     "text": [
      "0 1 2 3 4 5 "
     ]
    }
   ],
   "source": [
    "# take very long\n",
    "u_out = C2L(ds, ds_out, dr_u)"
   ]
  },
  {
   "cell_type": "code",
   "execution_count": 11,
   "metadata": {
    "collapsed": true
   },
   "outputs": [],
   "source": [
    "outputdir = '../../outputdata/regridded/'\n",
    "u_out.to_netcdf(outputdir+'C384L160_u700.nc')"
   ]
  },
  {
   "cell_type": "code",
   "execution_count": 12,
   "metadata": {},
   "outputs": [
    {
     "name": "stdout",
     "output_type": "stream",
     "text": [
      "0 1 2 3 4 5 "
     ]
    }
   ],
   "source": [
    "# take very long\n",
    "v_out = C2L(ds, ds_out, dr_v)"
   ]
  },
  {
   "cell_type": "code",
   "execution_count": 13,
   "metadata": {
    "collapsed": true
   },
   "outputs": [],
   "source": [
    "outputdir = '../../outputdata/regridded/'\n",
    "v_out.to_netcdf(outputdir+'C384L160_v700.nc')"
   ]
  },
  {
   "cell_type": "code",
   "execution_count": null,
   "metadata": {
    "collapsed": true
   },
   "outputs": [],
   "source": []
  }
 ],
 "metadata": {
  "kernelspec": {
   "display_name": "Python 3",
   "language": "python",
   "name": "python3"
  },
  "language_info": {
   "codemirror_mode": {
    "name": "ipython",
    "version": 3
   },
   "file_extension": ".py",
   "mimetype": "text/x-python",
   "name": "python",
   "nbconvert_exporter": "python",
   "pygments_lexer": "ipython3",
   "version": "3.6.1"
  }
 },
 "nbformat": 4,
 "nbformat_minor": 2
}
