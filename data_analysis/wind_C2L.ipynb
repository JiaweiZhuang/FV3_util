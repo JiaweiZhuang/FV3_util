{
 "cells": [
  {
   "cell_type": "markdown",
   "metadata": {},
   "source": [
    "## We need the lat-lon wind for plotting streamlines and calculating Liapunov components"
   ]
  },
  {
   "cell_type": "code",
   "execution_count": 2,
   "metadata": {
    "collapsed": true
   },
   "outputs": [],
   "source": [
    "%matplotlib inline\n",
    "import numpy as np\n",
    "import matplotlib.pyplot as plt\n",
    "import xarray as xr\n",
    "import cartopy.crs as ccrs\n",
    "\n",
    "import cubedsphere as cs\n",
    "import xesmf as xe"
   ]
  },
  {
   "cell_type": "code",
   "execution_count": 3,
   "metadata": {},
   "outputs": [
    {
     "data": {
      "text/plain": [
       "<xarray.Dataset>\n",
       "Dimensions:  (pfull: 20, phalf: 21, tile: 6, time: 8, x: 384, x_b: 385, y: 384, y_b: 385)\n",
       "Coordinates:\n",
       "  * x        (x) float64 1.0 2.0 3.0 4.0 5.0 6.0 7.0 8.0 9.0 10.0 11.0 12.0 ...\n",
       "  * y        (y) float64 1.0 2.0 3.0 4.0 5.0 6.0 7.0 8.0 9.0 10.0 11.0 12.0 ...\n",
       "  * pfull    (pfull) float64 7.673 47.07 100.7 152.7 204.4 255.8 307.2 358.6 ...\n",
       "  * phalf    (phalf) float64 1.0 26.0 77.26 128.5 179.8 231.1 282.3 333.6 ...\n",
       "  * time     (time) float64 1.0 2.0 3.0 4.0 5.0 6.0 7.0 8.0\n",
       "    lon      (tile, y, x) float32 305.097 305.293 305.488 305.685 305.881 ...\n",
       "    lat      (tile, y, x) float32 -35.2184 -35.3098 -35.4009 -35.4917 ...\n",
       "  * x_b      (x_b) float64 1.0 2.0 3.0 4.0 5.0 6.0 7.0 8.0 9.0 10.0 11.0 ...\n",
       "  * y_b      (y_b) float64 1.0 2.0 3.0 4.0 5.0 6.0 7.0 8.0 9.0 10.0 11.0 ...\n",
       "    lon_b    (tile, y_b, x_b) float32 305.0 305.195 305.391 305.586 305.783 ...\n",
       "    lat_b    (tile, y_b, x_b) float32 -35.2644 -35.3561 -35.4474 -35.5385 ...\n",
       "    area     (tile, y, x) float32 3.6204e+08 3.62862e+08 3.63679e+08 ...\n",
       "Dimensions without coordinates: tile\n",
       "Data variables:\n",
       "    ucomp    (tile, time, pfull, y, x) float64 27.38 27.6 27.63 27.72 27.76 ...\n",
       "    vcomp    (tile, time, pfull, y, x) float64 -0.06147 0.04623 0.02363 ...\n",
       "    vorts    (tile, time, y, x) float64 1.949e-06 1.731e-06 1.03e-06 ...\n",
       "    us       (tile, time, y, x) float64 8.547 8.597 8.641 8.621 8.593 8.58 ...\n",
       "    vs       (tile, time, y, x) float64 -0.05425 -0.04923 -0.03013 0.000239 ...\n",
       "    vort850  (tile, time, y, x) float64 6.425e-07 5.683e-07 9.189e-07 ...\n",
       "    u50      (tile, time, y, x) float64 28.86 28.92 28.98 29.05 29.1 29.17 ...\n",
       "    u200     (tile, time, y, x) float64 30.95 31.05 31.1 31.16 31.21 31.27 ...\n",
       "    u500     (tile, time, y, x) float64 27.56 27.65 27.71 27.79 27.85 27.91 ...\n",
       "    u700     (tile, time, y, x) float64 20.62 20.66 20.7 20.74 20.79 20.83 ...\n",
       "    u850     (tile, time, y, x) float64 14.02 14.04 14.09 14.13 14.18 14.22 ...\n",
       "    v50      (tile, time, y, x) float64 -0.06458 -0.05479 -0.04976 -0.04711 ...\n",
       "    v200     (tile, time, y, x) float64 -0.003281 -0.0145 -0.01633 -0.005352 ...\n",
       "    v500     (tile, time, y, x) float64 0.03641 0.02508 0.004554 -0.001817 ...\n",
       "    v700     (tile, time, y, x) float64 -0.02334 -0.01776 0.001231 0.02287 ...\n",
       "    v850     (tile, time, y, x) float64 -0.0004422 0.007835 -0.003541 ...\n",
       "    omg200   (tile, time, y, x) float64 -0.001185 -0.01219 -0.01515 ...\n",
       "    omg500   (tile, time, y, x) float64 -0.006154 0.008427 0.01092 0.0061 ...\n",
       "    omg850   (tile, time, y, x) float64 -0.006981 0.006819 0.009004 0.001194 ...\n",
       "Attributes:\n",
       "    filename:   winds_daily.tile1.nc\n",
       "    title:      Cubed-Sphere_C48\n",
       "    grid_type:  regular\n",
       "    grid_tile:  N/A"
      ]
     },
     "execution_count": 3,
     "metadata": {},
     "output_type": "execute_result"
    }
   ],
   "source": [
    "#maindir = '/n/home03/zhuangjw/seasasfs/fromPleiades/output_FV3/C384/C384L160/'\n",
    "maindir = '/n/home03/zhuangjw/seasasfs/fromPleiades/output_FV3/C384/spinup/'\n",
    "ds = cs.open_FV3data(maindir,'winds_daily')\n",
    "ds"
   ]
  },
  {
   "cell_type": "code",
   "execution_count": 4,
   "metadata": {},
   "outputs": [
    {
     "data": {
      "text/plain": [
       "<xarray.Dataset>\n",
       "Dimensions:  (x: 360, x_b: 361, y: 180, y_b: 181)\n",
       "Coordinates:\n",
       "    lon      (y, x) float64 -179.5 -178.5 -177.5 -176.5 -175.5 -174.5 -173.5 ...\n",
       "    lat      (y, x) float64 -89.5 -89.5 -89.5 -89.5 -89.5 -89.5 -89.5 -89.5 ...\n",
       "    lon_b    (y_b, x_b) int64 -180 -179 -178 -177 -176 -175 -174 -173 -172 ...\n",
       "    lat_b    (y_b, x_b) int64 -90 -90 -90 -90 -90 -90 -90 -90 -90 -90 -90 ...\n",
       "Dimensions without coordinates: x, x_b, y, y_b\n",
       "Data variables:\n",
       "    *empty*"
      ]
     },
     "execution_count": 4,
     "metadata": {},
     "output_type": "execute_result"
    }
   ],
   "source": [
    "ds_out = xe.grid_global(1, 1)\n",
    "ds_out"
   ]
  },
  {
   "cell_type": "code",
   "execution_count": 5,
   "metadata": {
    "collapsed": true
   },
   "outputs": [],
   "source": [
    "def C2L(ds_in, ds_out, dr_in):\n",
    "    \n",
    "    for k in range(6):\n",
    "        print(k, end=' ')\n",
    "        dr_temp = xe.regrid(ds_in.isel(tile=k), ds_out, \n",
    "                            dr_in.isel(tile=k), method='conservative')\n",
    "        if k==0:\n",
    "            dr_out = dr_temp\n",
    "        else:\n",
    "            dr_out += dr_temp\n",
    "    \n",
    "    return  dr_out"
   ]
  },
  {
   "cell_type": "code",
   "execution_count": 6,
   "metadata": {
    "collapsed": true
   },
   "outputs": [],
   "source": [
    "# load into memory before regridding\n",
    "dr_u = ds['u700'].load()\n",
    "dr_v = ds['v700'].load()"
   ]
  },
  {
   "cell_type": "code",
   "execution_count": 7,
   "metadata": {},
   "outputs": [
    {
     "name": "stdout",
     "output_type": "stream",
     "text": [
      "0 1 2 3 4 5 "
     ]
    }
   ],
   "source": [
    "# take very long\n",
    "u_out = C2L(ds, ds_out, dr_u)"
   ]
  },
  {
   "cell_type": "code",
   "execution_count": 8,
   "metadata": {
    "collapsed": true
   },
   "outputs": [],
   "source": [
    "outputdir = '../../outputdata/regridded/'\n",
    "#u_out.to_netcdf(outputdir+'C384L160_u700.nc')\n",
    "u_out.to_netcdf(outputdir+'C384_spinup_u700.nc')"
   ]
  },
  {
   "cell_type": "code",
   "execution_count": 9,
   "metadata": {},
   "outputs": [
    {
     "name": "stdout",
     "output_type": "stream",
     "text": [
      "0 1 2 3 4 5 "
     ]
    }
   ],
   "source": [
    "# take very long\n",
    "v_out = C2L(ds, ds_out, dr_v)"
   ]
  },
  {
   "cell_type": "code",
   "execution_count": 10,
   "metadata": {
    "collapsed": true
   },
   "outputs": [],
   "source": [
    "outputdir = '../../outputdata/regridded/'\n",
    "#v_out.to_netcdf(outputdir+'C384L160_v700.nc')\n",
    "v_out.to_netcdf(outputdir+'C384_spinup_v700.nc')"
   ]
  },
  {
   "cell_type": "code",
   "execution_count": null,
   "metadata": {
    "collapsed": true
   },
   "outputs": [],
   "source": []
  }
 ],
 "metadata": {
  "kernelspec": {
   "display_name": "Python 3",
   "language": "python",
   "name": "python3"
  },
  "language_info": {
   "codemirror_mode": {
    "name": "ipython",
    "version": 3
   },
   "file_extension": ".py",
   "mimetype": "text/x-python",
   "name": "python",
   "nbconvert_exporter": "python",
   "pygments_lexer": "ipython3",
   "version": "3.6.1"
  }
 },
 "nbformat": 4,
 "nbformat_minor": 2
}
