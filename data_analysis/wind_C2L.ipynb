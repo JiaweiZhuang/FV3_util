{
 "cells": [
  {
   "cell_type": "markdown",
   "metadata": {},
   "source": [
    "## We need the lat-lon wind for plotting streamlines and calculating Liapunov components"
   ]
  },
  {
   "cell_type": "code",
   "execution_count": 19,
   "metadata": {
    "collapsed": true
   },
   "outputs": [],
   "source": [
    "%matplotlib inline\n",
    "import numpy as np\n",
    "import matplotlib.pyplot as plt\n",
    "import xarray as xr\n",
    "import cartopy.crs as ccrs\n",
    "\n",
    "import cubedsphere as cs\n",
    "import xesmf as xe"
   ]
  },
  {
   "cell_type": "code",
   "execution_count": 20,
   "metadata": {},
   "outputs": [
    {
     "data": {
      "text/plain": [
       "<xarray.Dataset>\n",
       "Dimensions:  (pfull: 20, phalf: 21, tile: 6, time: 8, x: 384, x_b: 385, y: 384, y_b: 385)\n",
       "Coordinates:\n",
       "  * x        (x) float64 1.0 2.0 3.0 4.0 5.0 6.0 7.0 8.0 9.0 10.0 11.0 12.0 ...\n",
       "  * y        (y) float64 1.0 2.0 3.0 4.0 5.0 6.0 7.0 8.0 9.0 10.0 11.0 12.0 ...\n",
       "  * pfull    (pfull) float64 7.673 47.07 100.7 152.7 204.4 255.8 307.2 358.6 ...\n",
       "  * phalf    (phalf) float64 1.0 26.0 77.26 128.5 179.8 231.1 282.3 333.6 ...\n",
       "  * time     (time) float64 9.0 10.0 11.0 12.0 13.0 14.0 15.0 16.0\n",
       "    lon      (tile, y, x) float32 305.097 305.293 305.488 305.685 305.881 ...\n",
       "    lat      (tile, y, x) float32 -35.2184 -35.3098 -35.4009 -35.4917 ...\n",
       "  * x_b      (x_b) float64 1.0 2.0 3.0 4.0 5.0 6.0 7.0 8.0 9.0 10.0 11.0 ...\n",
       "  * y_b      (y_b) float64 1.0 2.0 3.0 4.0 5.0 6.0 7.0 8.0 9.0 10.0 11.0 ...\n",
       "    lon_b    (tile, y_b, x_b) float32 305.0 305.195 305.391 305.586 305.783 ...\n",
       "    lat_b    (tile, y_b, x_b) float32 -35.2644 -35.3561 -35.4474 -35.5385 ...\n",
       "    area     (tile, y, x) float32 3.6204e+08 3.62862e+08 3.63679e+08 ...\n",
       "Dimensions without coordinates: tile\n",
       "Data variables:\n",
       "    ucomp    (tile, time, pfull, y, x) float64 26.36 26.56 26.6 26.68 26.73 ...\n",
       "    vcomp    (tile, time, pfull, y, x) float64 0.1203 0.2215 0.1988 0.1976 ...\n",
       "    vorts    (tile, time, y, x) float64 9.178e-07 1.092e-06 8.604e-07 ...\n",
       "    us       (tile, time, y, x) float64 5.197 5.167 5.125 5.084 5.111 5.206 ...\n",
       "    vs       (tile, time, y, x) float64 0.06432 0.2352 0.3944 0.5104 0.5572 ...\n",
       "    vort850  (tile, time, y, x) float64 7.783e-06 6.288e-06 4.209e-06 ...\n",
       "    u50      (tile, time, y, x) float64 28.35 28.4 28.44 28.5 28.55 28.61 ...\n",
       "    u200     (tile, time, y, x) float64 29.97 30.09 30.14 30.18 30.23 30.28 ...\n",
       "    u500     (tile, time, y, x) float64 26.28 26.31 26.21 26.02 25.9 25.87 ...\n",
       "    u700     (tile, time, y, x) float64 19.11 19.21 19.3 19.38 19.43 19.49 ...\n",
       "    u850     (tile, time, y, x) float64 11.97 12.03 12.15 12.25 12.33 12.34 ...\n",
       "    v50      (tile, time, y, x) float64 -0.1649 -0.1572 -0.1507 -0.1485 ...\n",
       "    v200     (tile, time, y, x) float64 -0.5033 -0.5403 -0.4702 -0.3244 ...\n",
       "    v500     (tile, time, y, x) float64 -0.5095 -0.3716 -0.253 -0.1597 ...\n",
       "    v700     (tile, time, y, x) float64 -0.2079 -0.2643 -0.2701 -0.2291 ...\n",
       "    v850     (tile, time, y, x) float64 0.04286 0.1508 0.2244 0.2621 0.257 ...\n",
       "    omg200   (tile, time, y, x) float64 -0.003248 -0.01313 -0.01165 ...\n",
       "    omg500   (tile, time, y, x) float64 -0.01749 -0.007214 0.003807 0.003493 ...\n",
       "    omg850   (tile, time, y, x) float64 0.009995 0.00841 0.001924 -0.004897 ...\n",
       "Attributes:\n",
       "    filename:   winds_daily.tile1.nc\n",
       "    title:      Cubed-Sphere_C48\n",
       "    grid_type:  regular\n",
       "    grid_tile:  N/A"
      ]
     },
     "execution_count": 20,
     "metadata": {},
     "output_type": "execute_result"
    }
   ],
   "source": [
    "maindir = '/n/home03/zhuangjw/seasasfs/fromPleiades/output_FV3/' # Odyssey\n",
    "\n",
    "#datadir = maindir+'C48/C48L20/'\n",
    "datadir = maindir+'/C384/C384L20/'\n",
    "#datadir = maindir+'/C384/spinup/'\n",
    "\n",
    "ds = cs.open_FV3data(datadir,'winds_daily')\n",
    "ds"
   ]
  },
  {
   "cell_type": "code",
   "execution_count": 21,
   "metadata": {},
   "outputs": [
    {
     "data": {
      "text/plain": [
       "<xarray.Dataset>\n",
       "Dimensions:  (x: 1440, x_b: 1441, y: 720, y_b: 721)\n",
       "Coordinates:\n",
       "    lon      (y, x) float64 -179.9 -179.6 -179.4 -179.1 -178.9 -178.6 -178.4 ...\n",
       "    lat      (y, x) float64 -89.88 -89.88 -89.88 -89.88 -89.88 -89.88 -89.88 ...\n",
       "    lon_b    (y_b, x_b) float64 -180.0 -179.8 -179.5 -179.2 -179.0 -178.8 ...\n",
       "    lat_b    (y_b, x_b) float64 -90.0 -90.0 -90.0 -90.0 -90.0 -90.0 -90.0 ...\n",
       "Dimensions without coordinates: x, x_b, y, y_b\n",
       "Data variables:\n",
       "    *empty*"
      ]
     },
     "execution_count": 21,
     "metadata": {},
     "output_type": "execute_result"
    }
   ],
   "source": [
    "#ds_out = xe.grid_global(2, 2)\n",
    "ds_out = xe.grid_global(0.25, 0.25)\n",
    "ds_out"
   ]
  },
  {
   "cell_type": "code",
   "execution_count": 22,
   "metadata": {
    "collapsed": true
   },
   "outputs": [],
   "source": [
    "def C2L(ds_in, ds_out, dr_in):\n",
    "    \n",
    "    for k in range(6):\n",
    "        print(k, end=' ')\n",
    "        dr_temp = xe.regrid(ds_in.isel(tile=k), ds_out, \n",
    "                            dr_in.isel(tile=k), method='conservative')\n",
    "        if k==0:\n",
    "            dr_out = dr_temp\n",
    "        else:\n",
    "            dr_out += dr_temp\n",
    "    \n",
    "    return  dr_out"
   ]
  },
  {
   "cell_type": "code",
   "execution_count": 23,
   "metadata": {
    "collapsed": true
   },
   "outputs": [],
   "source": [
    "# load into memory before regridding\n",
    "dr_u = ds['u700'].isel(time=-1).load()\n",
    "dr_v = ds['v700'].isel(time=-1).load()"
   ]
  },
  {
   "cell_type": "code",
   "execution_count": 27,
   "metadata": {},
   "outputs": [
    {
     "name": "stdout",
     "output_type": "stream",
     "text": [
      "0 1 2 3 4 5 0 1 2 3 4 5 "
     ]
    }
   ],
   "source": [
    "# take very long for high resolution (~10min for C384->0.25x0.25)\n",
    "u_out = C2L(ds, ds_out, dr_u)\n",
    "v_out = C2L(ds, ds_out, dr_v)"
   ]
  },
  {
   "cell_type": "code",
   "execution_count": 28,
   "metadata": {},
   "outputs": [],
   "source": [
    "# record into dataset\n",
    "ds_out['u700'] = u_out\n",
    "ds_out['v700'] = v_out"
   ]
  },
  {
   "cell_type": "code",
   "execution_count": 29,
   "metadata": {},
   "outputs": [
    {
     "data": {
      "text/plain": [
       "<xarray.Dataset>\n",
       "Dimensions:  (x: 1440, x_b: 1441, y: 720, y_b: 721)\n",
       "Coordinates:\n",
       "    lon      (y, x) float64 -179.9 -179.6 -179.4 -179.1 -178.9 -178.6 -178.4 ...\n",
       "    lat      (y, x) float64 -89.88 -89.88 -89.88 -89.88 -89.88 -89.88 -89.88 ...\n",
       "    lon_b    (y_b, x_b) float64 -180.0 -179.8 -179.5 -179.2 -179.0 -178.8 ...\n",
       "    lat_b    (y_b, x_b) float64 -90.0 -90.0 -90.0 -90.0 -90.0 -90.0 -90.0 ...\n",
       "Dimensions without coordinates: x, x_b, y, y_b\n",
       "Data variables:\n",
       "    u700     (y, x) float64 0.739 0.739 0.739 0.739 0.739 0.739 0.739 0.739 ...\n",
       "    v700     (y, x) float64 -0.2885 -0.2885 -0.2885 -0.2885 -0.2885 -0.2885 ..."
      ]
     },
     "execution_count": 29,
     "metadata": {},
     "output_type": "execute_result"
    }
   ],
   "source": [
    "ds_out"
   ]
  },
  {
   "cell_type": "code",
   "execution_count": 30,
   "metadata": {
    "collapsed": true
   },
   "outputs": [],
   "source": [
    "outputdir = '../../outputdata/regridded/'\n",
    "#ds_out.to_netcdf(outputdir+'C48L20_wind700.nc')\n",
    "ds_out.to_netcdf(outputdir+'C384L20_wind700.nc')"
   ]
  },
  {
   "cell_type": "raw",
   "metadata": {},
   "source": []
  }
 ],
 "metadata": {
  "kernelspec": {
   "display_name": "Python 3",
   "language": "python",
   "name": "python3"
  },
  "language_info": {
   "codemirror_mode": {
    "name": "ipython",
    "version": 3
   },
   "file_extension": ".py",
   "mimetype": "text/x-python",
   "name": "python",
   "nbconvert_exporter": "python",
   "pygments_lexer": "ipython3",
   "version": "3.6.1"
  }
 },
 "nbformat": 4,
 "nbformat_minor": 2
}
