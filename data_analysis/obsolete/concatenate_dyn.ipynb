{
 "cells": [
  {
   "cell_type": "code",
   "execution_count": 2,
   "metadata": {
    "collapsed": true
   },
   "outputs": [],
   "source": [
    "%matplotlib inline\n",
    "import numpy as np\n",
    "import xarray as xr\n",
    "\n",
    "import cubedsphere as cs"
   ]
  },
  {
   "cell_type": "markdown",
   "metadata": {},
   "source": [
    "## Concatenate spin-up and useful simulation period"
   ]
  },
  {
   "cell_type": "code",
   "execution_count": 3,
   "metadata": {},
   "outputs": [],
   "source": [
    "datadir = '../../outputdata/regridded/'\n",
    "\n",
    "dr0_u = xr.open_dataarray(datadir+'C384_spinup_u700.nc', decode_times=False)\n",
    "dr0_v = xr.open_dataarray(datadir+'C384_spinup_v700.nc', decode_times=False)\n",
    "\n",
    "dr1_u = xr.open_dataarray(datadir+'C384L160_u700.nc', decode_times=False)\n",
    "dr1_v = xr.open_dataarray(datadir+'C384L160_v700.nc', decode_times=False)"
   ]
  },
  {
   "cell_type": "code",
   "execution_count": 4,
   "metadata": {},
   "outputs": [
    {
     "data": {
      "text/plain": [
       "<xarray.DataArray 'u700' (time: 8, y: 180, x: 360)>\n",
       "[518400 values with dtype=float64]\n",
       "Coordinates:\n",
       "    lon      (y, x) float64 -179.5 -178.5 -177.5 -176.5 -175.5 -174.5 -173.5 ...\n",
       "    lat      (y, x) float64 -89.5 -89.5 -89.5 -89.5 -89.5 -89.5 -89.5 -89.5 ...\n",
       "  * time     (time) float64 1.0 2.0 3.0 4.0 5.0 6.0 7.0 8.0\n",
       "Dimensions without coordinates: y, x"
      ]
     },
     "execution_count": 4,
     "metadata": {},
     "output_type": "execute_result"
    }
   ],
   "source": [
    "dr0_u"
   ]
  },
  {
   "cell_type": "code",
   "execution_count": 5,
   "metadata": {},
   "outputs": [
    {
     "data": {
      "text/plain": [
       "<xarray.DataArray 'u700' (time: 8, y: 180, x: 360)>\n",
       "[518400 values with dtype=float64]\n",
       "Coordinates:\n",
       "    lon      (y, x) float64 -179.5 -178.5 -177.5 -176.5 -175.5 -174.5 -173.5 ...\n",
       "    lat      (y, x) float64 -89.5 -89.5 -89.5 -89.5 -89.5 -89.5 -89.5 -89.5 ...\n",
       "  * time     (time) float64 9.0 10.0 11.0 12.0 13.0 14.0 15.0 16.0\n",
       "Dimensions without coordinates: y, x"
      ]
     },
     "execution_count": 5,
     "metadata": {},
     "output_type": "execute_result"
    }
   ],
   "source": [
    "dr1_u"
   ]
  },
  {
   "cell_type": "code",
   "execution_count": 8,
   "metadata": {},
   "outputs": [],
   "source": [
    "dr_u = xr.concat([dr0_u,dr1_u],dim='time')\n",
    "dr_v = xr.concat([dr0_v,dr1_v],dim='time')"
   ]
  },
  {
   "cell_type": "code",
   "execution_count": 12,
   "metadata": {},
   "outputs": [
    {
     "data": {
      "text/plain": [
       "<xarray.Dataset>\n",
       "Dimensions:  (time: 16, x: 360, y: 180)\n",
       "Coordinates:\n",
       "    lon      (y, x) float64 -179.5 -178.5 -177.5 -176.5 -175.5 -174.5 -173.5 ...\n",
       "    lat      (y, x) float64 -89.5 -89.5 -89.5 -89.5 -89.5 -89.5 -89.5 -89.5 ...\n",
       "  * time     (time) float64 1.0 2.0 3.0 4.0 5.0 6.0 7.0 8.0 9.0 10.0 11.0 ...\n",
       "Dimensions without coordinates: x, y\n",
       "Data variables:\n",
       "    u700     (time, y, x) float64 0.01942 0.01936 0.01929 0.01921 0.01912 ...\n",
       "    v700     (time, y, x) float64 -0.003344 -0.003345 -0.003345 -0.003346 ..."
      ]
     },
     "execution_count": 12,
     "metadata": {},
     "output_type": "execute_result"
    }
   ],
   "source": [
    "ds = xr.merge([dr_u,dr_v])\n",
    "ds"
   ]
  },
  {
   "cell_type": "code",
   "execution_count": 13,
   "metadata": {
    "collapsed": true
   },
   "outputs": [],
   "source": [
    "ds.to_netcdf(datadir+'C384_wind_16days.nc')"
   ]
  },
  {
   "cell_type": "markdown",
   "metadata": {},
   "source": [
    "# Surface pressure (no regridding)"
   ]
  },
  {
   "cell_type": "code",
   "execution_count": 21,
   "metadata": {
    "collapsed": true
   },
   "outputs": [],
   "source": [
    "datadir = '/n/home03/zhuangjw/seasasfs/fromPleiades/output_FV3/C384/spinup/'\n",
    "ds0 = cs.open_FV3data(datadir,'atmos_daily')\n",
    "dr0_ps = ds0['ps']\n",
    "\n",
    "datadir = '/n/home03/zhuangjw/seasasfs/fromPleiades/output_FV3/C384/C384L160/'\n",
    "ds1 = cs.open_FV3data(datadir,'atmos_daily')\n",
    "dr1_ps = ds1['ps']"
   ]
  },
  {
   "cell_type": "code",
   "execution_count": 42,
   "metadata": {},
   "outputs": [
    {
     "data": {
      "text/plain": [
       "<xarray.Dataset>\n",
       "Dimensions:  (pfull: 20, phalf: 21, tile: 6, time: 8, x: 384, x_b: 385, y: 384, y_b: 385)\n",
       "Coordinates:\n",
       "  * x        (x) float64 1.0 2.0 3.0 4.0 5.0 6.0 7.0 8.0 9.0 10.0 11.0 12.0 ...\n",
       "  * y        (y) float64 1.0 2.0 3.0 4.0 5.0 6.0 7.0 8.0 9.0 10.0 11.0 12.0 ...\n",
       "  * time     (time) float64 1.0 2.0 3.0 4.0 5.0 6.0 7.0 8.0\n",
       "  * pfull    (pfull) float64 7.673 47.07 100.7 152.7 204.4 255.8 307.2 358.6 ...\n",
       "  * phalf    (phalf) float64 1.0 26.0 77.26 128.5 179.8 231.1 282.3 333.6 ...\n",
       "    lon      (tile, y, x) float32 305.097 305.293 305.488 305.685 305.881 ...\n",
       "    lat      (tile, y, x) float32 -35.2184 -35.3098 -35.4009 -35.4917 ...\n",
       "  * x_b      (x_b) float64 1.0 2.0 3.0 4.0 5.0 6.0 7.0 8.0 9.0 10.0 11.0 ...\n",
       "  * y_b      (y_b) float64 1.0 2.0 3.0 4.0 5.0 6.0 7.0 8.0 9.0 10.0 11.0 ...\n",
       "    lon_b    (tile, y_b, x_b) float32 305.0 305.195 305.391 305.586 305.783 ...\n",
       "    lat_b    (tile, y_b, x_b) float32 -35.2644 -35.3561 -35.4474 -35.5385 ...\n",
       "    area     (tile, y, x) float32 3.6204e+08 3.62862e+08 3.63679e+08 ...\n",
       "Dimensions without coordinates: tile\n",
       "Data variables:\n",
       "    ps       (tile, time, y, x) float64 9.999e+04 9.999e+04 9.999e+04 ...\n",
       "    temp     (tile, time, pfull, y, x) float64 261.5 261.5 261.5 261.5 261.5 ...\n",
       "    omega    (tile, time, pfull, y, x) float64 -0.0007944 -0.0007507 ...\n",
       "    divg     (tile, time, pfull, y, x) float64 3.755e-06 1.28e-06 4.932e-07 ...\n",
       "    vort     (tile, time, pfull, y, x) float64 2.974e-06 3.105e-06 3.118e-06 ...\n",
       "    pv       (tile, time, pfull, y, x) float64 -1.67e-07 -1.672e-07 ...\n",
       "    tm       (tile, time, y, x) float64 251.8 251.8 251.7 251.7 251.7 251.7 ...\n",
       "    slp      (tile, time, y, x) float64 1.004e+03 1.004e+03 1.004e+03 ...\n",
       "    ppt      (tile, time, pfull, y, x) float64 1.14e+03 1.14e+03 1.14e+03 ...\n",
       "    te       (tile, time, y, x) float64 9.969e+36 9.969e+36 9.969e+36 ...\n",
       "    t50      (tile, time, y, x) float64 219.4 219.4 219.4 219.4 219.4 219.4 ...\n",
       "    t200     (tile, time, y, x) float64 227.6 227.6 227.6 227.6 227.6 227.6 ...\n",
       "    t500     (tile, time, y, x) float64 262.7 262.6 262.6 262.5 262.5 262.4 ...\n",
       "    t700     (tile, time, y, x) float64 278.4 278.3 278.2 278.1 278.0 277.9 ...\n",
       "    t850     (tile, time, y, x) float64 287.7 287.6 287.5 287.4 287.2 287.1 ...\n",
       "    s200     (tile, time, y, x) float64 30.95 31.05 31.1 31.16 31.21 31.27 ...\n",
       "Attributes:\n",
       "    filename:   atmos_daily.tile1.nc\n",
       "    title:      Cubed-Sphere_C48\n",
       "    grid_type:  regular\n",
       "    grid_tile:  N/A"
      ]
     },
     "execution_count": 42,
     "metadata": {},
     "output_type": "execute_result"
    }
   ],
   "source": [
    "ds0"
   ]
  },
  {
   "cell_type": "code",
   "execution_count": 23,
   "metadata": {},
   "outputs": [
    {
     "data": {
      "text/plain": [
       "(<xarray.DataArray 'ps' (tile: 6, time: 8, y: 384, x: 384)>\n",
       " dask.array<concatenate, shape=(6, 8, 384, 384), dtype=float64, chunksize=(1, 8, 384, 384)>\n",
       " Coordinates:\n",
       "   * x        (x) float64 1.0 2.0 3.0 4.0 5.0 6.0 7.0 8.0 9.0 10.0 11.0 12.0 ...\n",
       "   * y        (y) float64 1.0 2.0 3.0 4.0 5.0 6.0 7.0 8.0 9.0 10.0 11.0 12.0 ...\n",
       "   * time     (time) float64 1.0 2.0 3.0 4.0 5.0 6.0 7.0 8.0\n",
       "     lon      (tile, y, x) float32 305.097 305.293 305.488 305.685 305.881 ...\n",
       "     lat      (tile, y, x) float32 -35.2184 -35.3098 -35.4009 -35.4917 ...\n",
       "     area     (tile, y, x) float32 3.6204e+08 3.62862e+08 3.63679e+08 ...\n",
       " Dimensions without coordinates: tile\n",
       " Attributes:\n",
       "     long_name:     surface pressure\n",
       "     units:         Pa\n",
       "     cell_methods:  time: point,\n",
       " <xarray.DataArray 'ps' (tile: 6, time: 8, y: 384, x: 384)>\n",
       " dask.array<concatenate, shape=(6, 8, 384, 384), dtype=float64, chunksize=(1, 8, 384, 384)>\n",
       " Coordinates:\n",
       "   * x        (x) float64 1.0 2.0 3.0 4.0 5.0 6.0 7.0 8.0 9.0 10.0 11.0 12.0 ...\n",
       "   * y        (y) float64 1.0 2.0 3.0 4.0 5.0 6.0 7.0 8.0 9.0 10.0 11.0 12.0 ...\n",
       "   * time     (time) float64 9.0 10.0 11.0 12.0 13.0 14.0 15.0 16.0\n",
       "     lon      (tile, y, x) float32 305.097 305.293 305.488 305.685 305.881 ...\n",
       "     lat      (tile, y, x) float32 -35.2184 -35.3098 -35.4009 -35.4917 ...\n",
       "     area     (tile, y, x) float32 3.6204e+08 3.62862e+08 3.63679e+08 ...\n",
       " Dimensions without coordinates: tile\n",
       " Attributes:\n",
       "     long_name:     surface pressure\n",
       "     units:         Pa\n",
       "     cell_methods:  time: point)"
      ]
     },
     "execution_count": 23,
     "metadata": {},
     "output_type": "execute_result"
    }
   ],
   "source": [
    "dr0_ps,dr1_ps"
   ]
  },
  {
   "cell_type": "code",
   "execution_count": 24,
   "metadata": {
    "collapsed": true
   },
   "outputs": [],
   "source": [
    "dr_ps = xr.concat([dr0_ps,dr1_ps],dim='time')"
   ]
  },
  {
   "cell_type": "code",
   "execution_count": 38,
   "metadata": {},
   "outputs": [],
   "source": [
    "ds_ps = dr_ps.to_dataset()"
   ]
  },
  {
   "cell_type": "code",
   "execution_count": 43,
   "metadata": {},
   "outputs": [],
   "source": [
    "ds_ps.coords['lat_b'] = ds0['lat_b']\n",
    "ds_ps.coords['lon_b'] = ds0['lon_b']"
   ]
  },
  {
   "cell_type": "code",
   "execution_count": 44,
   "metadata": {},
   "outputs": [
    {
     "data": {
      "text/plain": [
       "<xarray.Dataset>\n",
       "Dimensions:  (tile: 6, time: 16, x: 384, x_b: 385, y: 384, y_b: 385)\n",
       "Coordinates:\n",
       "  * x        (x) float64 1.0 2.0 3.0 4.0 5.0 6.0 7.0 8.0 9.0 10.0 11.0 12.0 ...\n",
       "  * y        (y) float64 1.0 2.0 3.0 4.0 5.0 6.0 7.0 8.0 9.0 10.0 11.0 12.0 ...\n",
       "    lon      (tile, y, x) float32 305.097 305.293 305.488 305.685 305.881 ...\n",
       "    lat      (tile, y, x) float32 -35.2184 -35.3098 -35.4009 -35.4917 ...\n",
       "    area     (tile, y, x) float32 3.6204e+08 3.62862e+08 3.63679e+08 ...\n",
       "  * time     (time) float64 1.0 2.0 3.0 4.0 5.0 6.0 7.0 8.0 9.0 10.0 11.0 ...\n",
       "  * x_b      (x_b) float64 1.0 2.0 3.0 4.0 5.0 6.0 7.0 8.0 9.0 10.0 11.0 ...\n",
       "  * y_b      (y_b) float64 1.0 2.0 3.0 4.0 5.0 6.0 7.0 8.0 9.0 10.0 11.0 ...\n",
       "    lon_b    (tile, y_b, x_b) float32 305.0 305.195 305.391 305.586 305.783 ...\n",
       "    lat_b    (tile, y_b, x_b) float32 -35.2644 -35.3561 -35.4474 -35.5385 ...\n",
       "Dimensions without coordinates: tile\n",
       "Data variables:\n",
       "    ps       (tile, time, y, x) float64 9.999e+04 9.999e+04 9.999e+04 ..."
      ]
     },
     "execution_count": 44,
     "metadata": {},
     "output_type": "execute_result"
    }
   ],
   "source": [
    "ds_ps"
   ]
  },
  {
   "cell_type": "code",
   "execution_count": 46,
   "metadata": {},
   "outputs": [],
   "source": [
    "ds_ps.to_netcdf('./C384_ps_16days.nc')"
   ]
  },
  {
   "cell_type": "code",
   "execution_count": 47,
   "metadata": {},
   "outputs": [
    {
     "name": "stdout",
     "output_type": "stream",
     "text": [
      "C384_ps_16days.nc           plume01_entropy_C48L20.nc\r\n",
      "\u001b[0m\u001b[01;34mcolormap\u001b[0m/                   plume01_entropy_C48L40.nc\r\n",
      "compress_output.ipynb       plume01_entropy_C48L80.nc\r\n",
      "concatenate_dyn.ipynb       plume01_entropy_C96L160.nc\r\n",
      "entropy_calculate.ipynb     plume01_entropy_C96L20.nc\r\n",
      "entropy_plot.ipynb          plume01_entropy_C96L40.nc\r\n",
      "entropy_trend.png           plume01_entropy_C96L80.nc\r\n",
      "FV3log.py                   plume01_meri_average_2x2plot.png\r\n",
      "Initial_all.ipynb           plume01_vertical_average_2x2plot.png\r\n",
      "Liapunov.ipynb              \u001b[01;34m__pycache__\u001b[0m/\r\n",
      "maxVMR_plot.ipynb           visualize_lastday_dyn.ipynb\r\n",
      "\u001b[01;34mobsolete\u001b[0m/                   visualize_lastdayplume.ipynb\r\n",
      "plume01_entropy_C192L20.nc  visualize_timeseries.ipynb\r\n",
      "plume01_entropy_C192L40.nc  wind_C2L.ipynb\r\n",
      "plume01_entropy_C192L80.nc  wind_plot.ipynb\r\n",
      "plume01_entropy_C48L160.nc\r\n",
      "\u001b[m"
     ]
    }
   ],
   "source": [
    "ls ."
   ]
  },
  {
   "cell_type": "code",
   "execution_count": null,
   "metadata": {
    "collapsed": true
   },
   "outputs": [],
   "source": []
  }
 ],
 "metadata": {
  "kernelspec": {
   "display_name": "Python 3",
   "language": "python",
   "name": "python3"
  },
  "language_info": {
   "codemirror_mode": {
    "name": "ipython",
    "version": 3
   },
   "file_extension": ".py",
   "mimetype": "text/x-python",
   "name": "python",
   "nbconvert_exporter": "python",
   "pygments_lexer": "ipython3",
   "version": "3.6.1"
  }
 },
 "nbformat": 4,
 "nbformat_minor": 2
}
