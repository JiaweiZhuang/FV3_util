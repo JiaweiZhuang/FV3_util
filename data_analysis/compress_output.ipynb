{
 "cells": [
  {
   "cell_type": "markdown",
   "metadata": {},
   "source": [
    "### Because the output data is huge, we should take the vertical/zonal average in a separate step and save results for further analysis and plotting."
   ]
  },
  {
   "cell_type": "code",
   "execution_count": 1,
   "metadata": {
    "collapsed": true
   },
   "outputs": [],
   "source": [
    "%matplotlib inline\n",
    "import numpy as np\n",
    "import matplotlib.pyplot as plt\n",
    "import xarray as xr\n",
    "import cartopy.crs as ccrs\n",
    "import cubedsphere as cs"
   ]
  },
  {
   "cell_type": "markdown",
   "metadata": {},
   "source": [
    "## Vertical mean"
   ]
  },
  {
   "cell_type": "code",
   "execution_count": 4,
   "metadata": {},
   "outputs": [
    {
     "name": "stdout",
     "output_type": "stream",
     "text": [
      "loading 384 160 calculating... writting...\n"
     ]
    }
   ],
   "source": [
    "# warning: this cell takes very long to run!\n",
    "# the highest-res case (C384L160) might sometimes fail\n",
    "\n",
    "Vres_list = [20,40,80,160]#[3:]\n",
    "Hres_list = [48,96,192,384]#[3:]\n",
    "\n",
    "outputdir = \"~/FV3/output/processed/vertical_mean/\"\n",
    "\n",
    "for i,Hres in enumerate(Hres_list):\n",
    "    for j,Vres in enumerate(Vres_list):\n",
    "        \n",
    "        print('loading',Hres,Vres,end=' ')\n",
    "        datadir = (\"../../output/C{0}/C{0}L{1}/\".format(Hres,Vres))\n",
    "        ds = cs.open_FV3data(datadir,\"tracer_daily\")\n",
    "        \n",
    "        # only load the last day\n",
    "        dr = ds['plume01'].isel(time=-1).copy(); dr.load()\n",
    "        \n",
    "        print('calculating...',end=' ')\n",
    "        dr_vmean = dr.mean(dim='pfull')\n",
    "        ds_vmean = dr_vmean.to_dataset()\n",
    "        \n",
    "        # recover lost coordinates\n",
    "        ds_vmean['lat_b'] = ds['lat_b']\n",
    "        ds_vmean.set_coords([\"lat_b\"], inplace=True)\n",
    "        ds_vmean['lon_b'] = ds['lon_b']\n",
    "        ds_vmean.set_coords([\"lon_b\"], inplace=True)\n",
    "        \n",
    "        print('writting...',end='\\n')\n",
    "        ds_vmean.to_netcdf(outputdir+'plume01_vmean_C{0}L{1}.nc'.format(Hres,Vres))"
   ]
  },
  {
   "cell_type": "markdown",
   "metadata": {},
   "source": [
    "## Meridional mean"
   ]
  },
  {
   "cell_type": "code",
   "execution_count": 3,
   "metadata": {},
   "outputs": [
    {
     "name": "stdout",
     "output_type": "stream",
     "text": [
      "loading 384 160 calculating... writting...\n"
     ]
    }
   ],
   "source": [
    "# warning: this cell takes very long to run!\n",
    "\n",
    "Vres_list = [20,40,80,160]#[3:]\n",
    "Hres_list = [48,96,192,384]#[3:]\n",
    "\n",
    "outputdir = \"~/FV3/output/processed/meri_mean/\"\n",
    "\n",
    "for i,Hres in enumerate(Hres_list):\n",
    "    for j,Vres in enumerate(Vres_list):\n",
    "        \n",
    "        print('loading',Hres,Vres,end=' ')\n",
    "        datadir = (\"../../output/C{0}/C{0}L{1}/\".format(Hres,Vres))\n",
    "        ds = cs.open_FV3data(datadir,\"tracer_daily\")\n",
    "        \n",
    "        # only load the last day\n",
    "        dr = ds['plume01'].isel(time=-1).copy(); dr.load()\n",
    "        \n",
    "        print('calculating...',end=' ')\n",
    "        # use finer bin at higher Hres\n",
    "        dr_meri = cs.meridional_mean(dr,dlon=10.0/Hres*48)\n",
    "        \n",
    "        print('writting...',end='\\n')\n",
    "        dr_meri.to_netcdf(outputdir+'plume01_meri_C{0}L{1}.nc'.format(Hres,Vres))"
   ]
  },
  {
   "cell_type": "code",
   "execution_count": null,
   "metadata": {
    "collapsed": true
   },
   "outputs": [],
   "source": []
  }
 ],
 "metadata": {
  "kernelspec": {
   "display_name": "Python 3",
   "language": "python",
   "name": "python3"
  },
  "language_info": {
   "codemirror_mode": {
    "name": "ipython",
    "version": 3
   },
   "file_extension": ".py",
   "mimetype": "text/x-python",
   "name": "python",
   "nbconvert_exporter": "python",
   "pygments_lexer": "ipython3",
   "version": "3.6.1"
  }
 },
 "nbformat": 4,
 "nbformat_minor": 2
}
