{
 "cells": [
  {
   "cell_type": "code",
   "execution_count": 1,
   "metadata": {
    "collapsed": true
   },
   "outputs": [],
   "source": [
    "%matplotlib inline\n",
    "import numpy as np\n",
    "import xarray as xr\n",
    "import matplotlib.pyplot as plt\n",
    "import cartopy.crs as ccrs"
   ]
  },
  {
   "cell_type": "code",
   "execution_count": 2,
   "metadata": {
    "collapsed": true
   },
   "outputs": [],
   "source": [
    "datadir = '../../outputdata/regridded/'\n",
    "ds = xr.open_dataset(datadir+'C384_wind_16days.nc', decode_times=False)"
   ]
  },
  {
   "cell_type": "code",
   "execution_count": 3,
   "metadata": {},
   "outputs": [
    {
     "data": {
      "text/plain": [
       "<xarray.Dataset>\n",
       "Dimensions:  (time: 16, x: 360, y: 180)\n",
       "Coordinates:\n",
       "    lon      (y, x) float64 -179.5 -178.5 -177.5 -176.5 -175.5 -174.5 -173.5 ...\n",
       "    lat      (y, x) float64 -89.5 -89.5 -89.5 -89.5 -89.5 -89.5 -89.5 -89.5 ...\n",
       "  * time     (time) float64 1.0 2.0 3.0 4.0 5.0 6.0 7.0 8.0 9.0 10.0 11.0 ...\n",
       "Dimensions without coordinates: x, y\n",
       "Data variables:\n",
       "    u700     (time, y, x) float64 0.01942 0.01936 0.01929 0.01921 0.01912 ...\n",
       "    v700     (time, y, x) float64 -0.003344 -0.003345 -0.003345 -0.003346 ..."
      ]
     },
     "execution_count": 3,
     "metadata": {},
     "output_type": "execute_result"
    }
   ],
   "source": [
    "ds"
   ]
  },
  {
   "cell_type": "code",
   "execution_count": 4,
   "metadata": {
    "collapsed": true
   },
   "outputs": [],
   "source": [
    "u = ds['u700'].values\n",
    "v = ds['v700'].values\n",
    "lat = ds['lat'].isel(x=0).values"
   ]
  },
  {
   "cell_type": "code",
   "execution_count": 5,
   "metadata": {
    "collapsed": true
   },
   "outputs": [],
   "source": [
    "def Liapunov(u, v, lat, dlat=1, dlon=1):\n",
    "    s_lat = 110.574e3 * dlat\n",
    "    s_lon = 111.320e3 * np.cos(lat/180*np.pi) * dlon\n",
    "    du = (np.roll(u,1,axis=-1)-np.roll(u,-1,axis=-1))\n",
    "    dv = (np.roll(v,1,axis=-2)-np.roll(v,1,axis=-2))\n",
    "    L = (np.abs(du)+np.abs(dv))/(s_lon+s_lat)[:,np.newaxis]\n",
    "    return L"
   ]
  },
  {
   "cell_type": "code",
   "execution_count": 6,
   "metadata": {},
   "outputs": [
    {
     "data": {
      "text/plain": [
       "(16, 180, 360)"
      ]
     },
     "execution_count": 6,
     "metadata": {},
     "output_type": "execute_result"
    }
   ],
   "source": [
    "L = Liapunov(u, v, lat)*1e6\n",
    "L.shape"
   ]
  },
  {
   "cell_type": "code",
   "execution_count": 11,
   "metadata": {},
   "outputs": [
    {
     "name": "stdout",
     "output_type": "stream",
     "text": [
      "0 1 2 3 4 5 6 7 8 9 10 11 12 13 14 15 "
     ]
    }
   ],
   "source": [
    "vmin,vmax = [0,40]\n",
    "\n",
    "for t in range(16):\n",
    "    print(t,end=' ')\n",
    "    fig = plt.figure(figsize=[8,6])\n",
    "    ax = plt.axes(projection=ccrs.PlateCarree())\n",
    "    ax.coastlines()\n",
    "\n",
    "    im = ax.pcolormesh(ds['lon'].values,ds['lat'].values,L[t,:,:],\n",
    "                  cmap='jet',vmin=vmin, vmax=vmax)\n",
    "    ax.set_title('day = {0}'.format(t-7), fontsize=12)\n",
    "\n",
    "    plt.colorbar(im, orientation='vertical', shrink=0.5,\n",
    "                 ticks=np.linspace(vmin,vmax,5)).\\\n",
    "                 set_label(\"Lyapunov exponent (1e-6/s)\",fontsize=10)\n",
    "\n",
    "    fig.savefig('Lyapunov_iday{0:02}'.format(t+1),dpi=200)\n",
    "    plt.close() # don't show in this notebook"
   ]
  },
  {
   "cell_type": "code",
   "execution_count": null,
   "metadata": {
    "collapsed": true
   },
   "outputs": [],
   "source": []
  }
 ],
 "metadata": {
  "kernelspec": {
   "display_name": "Python 3",
   "language": "python",
   "name": "python3"
  },
  "language_info": {
   "codemirror_mode": {
    "name": "ipython",
    "version": 3
   },
   "file_extension": ".py",
   "mimetype": "text/x-python",
   "name": "python",
   "nbconvert_exporter": "python",
   "pygments_lexer": "ipython3",
   "version": "3.6.1"
  }
 },
 "nbformat": 4,
 "nbformat_minor": 2
}
