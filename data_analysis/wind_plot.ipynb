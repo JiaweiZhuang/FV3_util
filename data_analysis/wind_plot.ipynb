{
 "cells": [
  {
   "cell_type": "markdown",
   "metadata": {},
   "source": [
    "## Plot lat-lon wind"
   ]
  },
  {
   "cell_type": "code",
   "execution_count": 1,
   "metadata": {
    "collapsed": true
   },
   "outputs": [],
   "source": [
    "%matplotlib inline\n",
    "import numpy as np\n",
    "import matplotlib.pyplot as plt\n",
    "import xarray as xr\n",
    "import cartopy.crs as ccrs\n",
    "\n",
    "import cubedsphere as cs"
   ]
  },
  {
   "cell_type": "code",
   "execution_count": 2,
   "metadata": {},
   "outputs": [],
   "source": [
    "datadir = '../../outputdata/regridded/'\n",
    "\n",
    "ds_wind = xr.open_dataset(datadir+'C384_wind_16days.nc', decode_times=False)"
   ]
  },
  {
   "cell_type": "code",
   "execution_count": 3,
   "metadata": {},
   "outputs": [
    {
     "data": {
      "text/plain": [
       "<xarray.Dataset>\n",
       "Dimensions:  (time: 16, x: 360, y: 180)\n",
       "Coordinates:\n",
       "    lon      (y, x) float64 -179.5 -178.5 -177.5 -176.5 -175.5 -174.5 -173.5 ...\n",
       "    lat      (y, x) float64 -89.5 -89.5 -89.5 -89.5 -89.5 -89.5 -89.5 -89.5 ...\n",
       "  * time     (time) float64 1.0 2.0 3.0 4.0 5.0 6.0 7.0 8.0 9.0 10.0 11.0 ...\n",
       "Dimensions without coordinates: x, y\n",
       "Data variables:\n",
       "    u700     (time, y, x) float64 0.01942 0.01936 0.01929 0.01921 0.01912 ...\n",
       "    v700     (time, y, x) float64 -0.003344 -0.003345 -0.003345 -0.003346 ..."
      ]
     },
     "execution_count": 3,
     "metadata": {},
     "output_type": "execute_result"
    }
   ],
   "source": [
    "ds_wind"
   ]
  },
  {
   "cell_type": "code",
   "execution_count": 4,
   "metadata": {},
   "outputs": [],
   "source": [
    "ds_ps = xr.open_dataset('./C384_ps_16days.nc', decode_times=False)"
   ]
  },
  {
   "cell_type": "code",
   "execution_count": 5,
   "metadata": {},
   "outputs": [
    {
     "data": {
      "text/plain": [
       "<xarray.Dataset>\n",
       "Dimensions:  (tile: 6, time: 16, x: 384, x_b: 385, y: 384, y_b: 385)\n",
       "Coordinates:\n",
       "  * x        (x) float64 1.0 2.0 3.0 4.0 5.0 6.0 7.0 8.0 9.0 10.0 11.0 12.0 ...\n",
       "  * y        (y) float64 1.0 2.0 3.0 4.0 5.0 6.0 7.0 8.0 9.0 10.0 11.0 12.0 ...\n",
       "    lon      (tile, y, x) float32 305.097 305.293 305.488 305.685 305.881 ...\n",
       "    lat      (tile, y, x) float32 -35.2184 -35.3098 -35.4009 -35.4917 ...\n",
       "    area     (tile, y, x) float32 3.6204e+08 3.62862e+08 3.63679e+08 ...\n",
       "  * time     (time) float64 1.0 2.0 3.0 4.0 5.0 6.0 7.0 8.0 9.0 10.0 11.0 ...\n",
       "  * x_b      (x_b) float64 1.0 2.0 3.0 4.0 5.0 6.0 7.0 8.0 9.0 10.0 11.0 ...\n",
       "  * y_b      (y_b) float64 1.0 2.0 3.0 4.0 5.0 6.0 7.0 8.0 9.0 10.0 11.0 ...\n",
       "    lon_b    (tile, y_b, x_b) float32 305.0 305.195 305.391 305.586 305.783 ...\n",
       "    lat_b    (tile, y_b, x_b) float32 -35.2644 -35.3561 -35.4474 -35.5385 ...\n",
       "Dimensions without coordinates: tile\n",
       "Data variables:\n",
       "    ps       (tile, time, y, x) float64 999.9 999.9 999.9 999.9 999.9 999.9 ..."
      ]
     },
     "execution_count": 5,
     "metadata": {},
     "output_type": "execute_result"
    }
   ],
   "source": [
    "ds_ps['ps'] = ds_ps['ps']/100 # Pa to hPa\n",
    "ds_ps"
   ]
  },
  {
   "cell_type": "code",
   "execution_count": 6,
   "metadata": {},
   "outputs": [
    {
     "name": "stdout",
     "output_type": "stream",
     "text": [
      "0 1 2 3 4 5 6 7 8 9 10 11 12 13 14 15 "
     ]
    }
   ],
   "source": [
    "vmin,vmax = [900,1040]\n",
    "\n",
    "lon, lat = [ds_wind['lon'].values,ds_wind['lat'].values]\n",
    "\n",
    "for t in range(16):\n",
    "    print(t,end=' ')\n",
    "    \n",
    "    fig = plt.figure(figsize=[8,6])\n",
    "    ax = plt.axes(projection=ccrs.PlateCarree())\n",
    "    #ax.coastlines(alpha=0.3)\n",
    "\n",
    "    ax.streamplot(lon,lat,\n",
    "                  ds_wind['u700'].isel(time=t).values, ds_wind['v700'].isel(time=t).values,\n",
    "                  density=1.5, color='grey')\n",
    "\n",
    "    im = cs.plotCS_quick(ds_ps['ps'].isel(time=t), ds_ps, ax, cmap='jet',\n",
    "                         vmin=vmin, vmax=vmax)\n",
    "\n",
    "    ax.set_title('day = {0}'.format(t-7), fontsize=12)\n",
    "\n",
    "    fig.colorbar(im, ax=ax, orientation='vertical',\n",
    "                 shrink=0.5,ticks=np.linspace(vmin,vmax,5)).\\\n",
    "                 set_label(\"surface pressure (hPa)\",fontsize=10)\n",
    "\n",
    "    fig.savefig('wind_ps_iday{0:02}'.format(t+1),dpi=200)\n",
    "    plt.close() # don't show in this notebook"
   ]
  },
  {
   "cell_type": "code",
   "execution_count": null,
   "metadata": {
    "collapsed": true
   },
   "outputs": [],
   "source": []
  }
 ],
 "metadata": {
  "kernelspec": {
   "display_name": "Python 3",
   "language": "python",
   "name": "python3"
  },
  "language_info": {
   "codemirror_mode": {
    "name": "ipython",
    "version": 3
   },
   "file_extension": ".py",
   "mimetype": "text/x-python",
   "name": "python",
   "nbconvert_exporter": "python",
   "pygments_lexer": "ipython3",
   "version": "3.6.1"
  }
 },
 "nbformat": 4,
 "nbformat_minor": 2
}
