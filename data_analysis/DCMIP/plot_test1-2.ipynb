{
 "cells": [
  {
   "cell_type": "code",
   "execution_count": 1,
   "metadata": {
    "collapsed": true
   },
   "outputs": [],
   "source": [
    "%matplotlib inline\n",
    "import matplotlib.pyplot as plt\n",
    "import numpy as np\n",
    "import xarray as xr\n",
    "import xbpch\n",
    "from WhGrYlRd import WhGrYlRd"
   ]
  },
  {
   "cell_type": "markdown",
   "metadata": {},
   "source": [
    "# Preprocessing"
   ]
  },
  {
   "cell_type": "code",
   "execution_count": 2,
   "metadata": {
    "collapsed": true
   },
   "outputs": [],
   "source": [
    "maindir = \"./data/\""
   ]
  },
  {
   "cell_type": "markdown",
   "metadata": {},
   "source": [
    "## Height info"
   ]
  },
  {
   "cell_type": "code",
   "execution_count": 3,
   "metadata": {},
   "outputs": [
    {
     "data": {
      "text/plain": [
       "<xarray.Dataset>\n",
       "Dimensions:       (lat: 91, lev: 73, lon: 144)\n",
       "Coordinates:\n",
       "  * lon           (lon) float32 -180.0 -177.5 -175.0 -172.5 -170.0 -167.5 ...\n",
       "  * lat           (lat) float32 -90.0 -88.0 -86.0 -84.0 -82.0 -80.0 -78.0 ...\n",
       "  * lev           (lev) float32 1.0 2.0 3.0 4.0 5.0 6.0 7.0 8.0 9.0 10.0 ...\n",
       "Data variables:\n",
       "    Alti_edge     (lev, lat, lon) float32 436.192 436.192 436.192 436.192 ...\n",
       "    RefAlti_edge  (lev) float32 0.0 132.784 267.608 404.531 543.619 684.948 ..."
      ]
     },
     "execution_count": 3,
     "metadata": {},
     "output_type": "execute_result"
    }
   ],
   "source": [
    "ds_h = xr.open_dataset(maindir+\"ScharMoutain_ModelLevelAltitude.nc\")\n",
    "ds_h"
   ]
  },
  {
   "cell_type": "code",
   "execution_count": 4,
   "metadata": {},
   "outputs": [
    {
     "data": {
      "text/plain": [
       "((73,), 101.14928)"
      ]
     },
     "execution_count": 4,
     "metadata": {},
     "output_type": "execute_result"
    }
   ],
   "source": [
    "heights = ds_h['RefAlti_edge'].values/1e3 # m -> km\n",
    "heights.shape, heights.max()"
   ]
  },
  {
   "cell_type": "code",
   "execution_count": 5,
   "metadata": {},
   "outputs": [
    {
     "data": {
      "text/plain": [
       "array([-90., -88., -86., -84., -82., -80., -78., -76., -74., -72., -70.,\n",
       "       -68., -66., -64., -62., -60., -58., -56., -54., -52., -50., -48.,\n",
       "       -46., -44., -42., -40., -38., -36., -34., -32., -30., -28., -26.,\n",
       "       -24., -22., -20., -18., -16., -14., -12., -10.,  -8.,  -6.,  -4.,\n",
       "        -2.,   0.,   2.,   4.,   6.,   8.,  10.,  12.,  14.,  16.,  18.,\n",
       "        20.,  22.,  24.,  26.,  28.,  30.,  32.,  34.,  36.,  38.,  40.,\n",
       "        42.,  44.,  46.,  48.,  50.,  52.,  54.,  56.,  58.,  60.,  62.,\n",
       "        64.,  66.,  68.,  70.,  72.,  74.,  76.,  78.,  80.,  82.,  84.,\n",
       "        86.,  88.,  90.], dtype=float32)"
      ]
     },
     "execution_count": 5,
     "metadata": {},
     "output_type": "execute_result"
    }
   ],
   "source": [
    "lats = ds_h['lat'].values\n",
    "lats"
   ]
  },
  {
   "cell_type": "markdown",
   "metadata": {},
   "source": [
    "# Restart file"
   ]
  },
  {
   "cell_type": "code",
   "execution_count": 6,
   "metadata": {
    "collapsed": true
   },
   "outputs": [],
   "source": [
    "ds_st = xbpch.open_bpchdataset(maindir+\"test1-2_2x25_tropchem_72L.bpch\")\n",
    "dr_st = ds_st['IJ_AVG_S_NO']/1e9"
   ]
  },
  {
   "cell_type": "code",
   "execution_count": 7,
   "metadata": {},
   "outputs": [
    {
     "data": {
      "text/plain": [
       "<xarray.DataArray 'IJ_AVG_S_NO' (lon: 144, lat: 91, lev: 72)>\n",
       "dask.array<truediv, shape=(144, 91, 72), dtype=float32, chunksize=(144, 91, 72)>\n",
       "Coordinates:\n",
       "  * lev      (lev) float64 0.9925 0.9775 0.9624 0.9473 0.9322 0.9171 0.902 ...\n",
       "  * lon      (lon) float64 -180.0 -177.5 -175.0 -172.5 -170.0 -167.5 -165.0 ...\n",
       "  * lat      (lat) float64 -89.5 -88.0 -86.0 -84.0 -82.0 -80.0 -78.0 -76.0 ..."
      ]
     },
     "execution_count": 7,
     "metadata": {},
     "output_type": "execute_result"
    }
   ],
   "source": [
    "dr_st"
   ]
  },
  {
   "cell_type": "code",
   "execution_count": 8,
   "metadata": {
    "collapsed": true
   },
   "outputs": [],
   "source": [
    "data_st = dr_st.mean(dim='lon').T"
   ]
  },
  {
   "cell_type": "code",
   "execution_count": 9,
   "metadata": {},
   "outputs": [
    {
     "data": {
      "text/plain": [
       "(72, 91)"
      ]
     },
     "execution_count": 9,
     "metadata": {},
     "output_type": "execute_result"
    }
   ],
   "source": [
    "data_st.shape"
   ]
  },
  {
   "cell_type": "code",
   "execution_count": 10,
   "metadata": {},
   "outputs": [
    {
     "data": {
      "text/plain": [
       "<matplotlib.collections.QuadMesh at 0x1123f6940>"
      ]
     },
     "execution_count": 10,
     "metadata": {},
     "output_type": "execute_result"
    },
    {
     "data": {
      "image/png": "[encoded data removed]",
      "text/plain": [
       "<matplotlib.figure.Figure at 0x10f0656a0>"
      ]
     },
     "metadata": {},
     "output_type": "display_data"
    }
   ],
   "source": [
    "plt.pcolormesh(lats, heights[:31], data_st[:31], cmap=WhGrYlRd)"
   ]
  },
  {
   "cell_type": "markdown",
   "metadata": {},
   "source": [
    "# GC-classic"
   ]
  },
  {
   "cell_type": "code",
   "execution_count": 11,
   "metadata": {
    "collapsed": true
   },
   "outputs": [],
   "source": [
    "ds_cc = xbpch.open_bpchdataset(maindir+\"Test1-2_nullQVRH.ts20130702.bpch\")\n",
    "dr_cc = ds_cc['IJ_AVG_S_NO']/1e9"
   ]
  },
  {
   "cell_type": "code",
   "execution_count": 12,
   "metadata": {},
   "outputs": [
    {
     "data": {
      "text/plain": [
       "(72, 91)"
      ]
     },
     "execution_count": 12,
     "metadata": {},
     "output_type": "execute_result"
    }
   ],
   "source": [
    "data_cc1 = dr_cc.isel(time=11).mean(dim='lon').T\n",
    "data_cc2 = dr_cc.isel(time=23).mean(dim='lon').T\n",
    "data_cc1.shape"
   ]
  },
  {
   "cell_type": "code",
   "execution_count": 13,
   "metadata": {},
   "outputs": [
    {
     "data": {
      "text/plain": [
       "<matplotlib.collections.QuadMesh at 0x112e46748>"
      ]
     },
     "execution_count": 13,
     "metadata": {},
     "output_type": "execute_result"
    },
    {
     "data": {
      "image/png": "[encoded data removed]",
      "text/plain": [
       "<matplotlib.figure.Figure at 0x112d8a1d0>"
      ]
     },
     "metadata": {},
     "output_type": "display_data"
    }
   ],
   "source": [
    "plt.figure(figsize=[12,4])\n",
    "plt.subplot(121)\n",
    "plt.pcolormesh(lats, heights[:31], data_cc1[:31], cmap=WhGrYlRd)\n",
    "plt.subplot(122)\n",
    "plt.pcolormesh(lats, heights[:31], data_cc2[:31], cmap=WhGrYlRd)"
   ]
  },
  {
   "cell_type": "markdown",
   "metadata": {
    "collapsed": true
   },
   "source": [
    "# GCHP"
   ]
  },
  {
   "cell_type": "code",
   "execution_count": 14,
   "metadata": {
    "collapsed": true
   },
   "outputs": [],
   "source": [
    "ds_hp1 = xr.open_dataset(maindir+\"GCHP_oldver_FixOffset_Test1-2.regrid.20130702_1200z.nc4\")\n",
    "data_hp1 = ds_hp1[\"TRC_NO\"].isel(time=0).mean(dim='lon').values[::-1,:]\n",
    "\n",
    "ds_hp2 = xr.open_dataset(maindir+\"GCHP_oldver_FixOffset_Test1-2.regrid.20130702_2400z.nc4\")\n",
    "data_hp2 = ds_hp2[\"TRC_NO\"].isel(time=0).mean(dim='lon').values[::-1,:]"
   ]
  },
  {
   "cell_type": "code",
   "execution_count": 15,
   "metadata": {},
   "outputs": [
    {
     "data": {
      "text/plain": [
       "(72, 91)"
      ]
     },
     "execution_count": 15,
     "metadata": {},
     "output_type": "execute_result"
    }
   ],
   "source": [
    "data_hp1.shape"
   ]
  },
  {
   "cell_type": "code",
   "execution_count": 16,
   "metadata": {},
   "outputs": [
    {
     "data": {
      "text/plain": [
       "<matplotlib.collections.QuadMesh at 0x1124362e8>"
      ]
     },
     "execution_count": 16,
     "metadata": {},
     "output_type": "execute_result"
    },
    {
     "data": {
      "image/png": "[encoded data removed]",
      "text/plain": [
       "<matplotlib.figure.Figure at 0x10f0acc18>"
      ]
     },
     "metadata": {},
     "output_type": "display_data"
    }
   ],
   "source": [
    "plt.figure(figsize=[12,4])\n",
    "plt.subplot(121)\n",
    "plt.pcolormesh(lats, heights[:31], data_hp1[:31], cmap=WhGrYlRd)\n",
    "plt.subplot(122)\n",
    "plt.pcolormesh(lats, heights[:31], data_hp2[:31], cmap=WhGrYlRd)"
   ]
  },
  {
   "cell_type": "markdown",
   "metadata": {
    "collapsed": true
   },
   "source": [
    "# Put together"
   ]
  },
  {
   "cell_type": "code",
   "execution_count": 19,
   "metadata": {},
   "outputs": [
    {
     "data": {
      "image/png": "[encoded data removed]",
      "text/plain": [
       "<matplotlib.figure.Figure at 0x116e16710>"
      ]
     },
     "metadata": {},
     "output_type": "display_data"
    }
   ],
   "source": [
    "fig, axes = plt.subplots(2,3,figsize=[12,6])\n",
    "\n",
    "ax_list = [axes[0,0], axes[0,1], axes[0,2], axes[1,1], axes[1,2]]\n",
    "data_list = [data_st, data_cc1, data_cc2, data_hp1, data_hp2]\n",
    "title_list = ['Initial condition', \n",
    "              'TPCORE; t = 12 h', 'TPCORE; t=24 h',\n",
    "              'FV3; t = 12 h', 'FV3; t = 24 h']\n",
    "\n",
    "for i in range(5):\n",
    "    ax = ax_list[i]\n",
    "    data = data_list[i]\n",
    "    title = title_list[i]\n",
    "    im = ax.pcolormesh(lats, heights[:31], data[:31],\n",
    "                       cmap=WhGrYlRd, vmax=1.0, vmin=0.0)\n",
    "    ax.set_title(title, fontsize=16)\n",
    "    \n",
    "    if i in [0, 3, 4]:\n",
    "        ax.set_xticks([-60, 0, 60])\n",
    "        ax.set_xticklabels( ['60$\\degree$S',\n",
    "                             '0$\\degree$', \n",
    "                             '60$\\degree$N'], \n",
    "                            fontsize=14)\n",
    " \n",
    "    else:\n",
    "        ax.set_xticks([])\n",
    "        \n",
    "    if i in [0]:\n",
    "        ax.set_ylabel('height, km', fontsize=14)\n",
    "        ylabels = [0, 2, 4, 6, 8, 10, 12]\n",
    "        ax.set_yticks(ylabels)\n",
    "        ax.set_yticklabels(ylabels, fontsize=13)\n",
    "    else:\n",
    "        ax.set_yticks([])\n",
    "    \n",
    "cb = plt.colorbar(im, ax=axes[1,0], \n",
    "                  orientation='horizontal', pad=0.8)\n",
    "cb.set_label('VMR, v/v', fontsize=14)\n",
    "cb.ax.tick_params(labelsize=14)\n",
    "fig.savefig('DCMIP_test1-2.png', dpi=400)"
   ]
  },
  {
   "cell_type": "code",
   "execution_count": null,
   "metadata": {
    "collapsed": true
   },
   "outputs": [],
   "source": []
  }
 ],
 "metadata": {
  "kernelspec": {
   "display_name": "Python 3",
   "language": "python",
   "name": "python3"
  },
  "language_info": {
   "codemirror_mode": {
    "name": "ipython",
    "version": 3
   },
   "file_extension": ".py",
   "mimetype": "text/x-python",
   "name": "python",
   "nbconvert_exporter": "python",
   "pygments_lexer": "ipython3",
   "version": "3.6.2"
  },
  "toc": {
   "nav_menu": {},
   "number_sections": true,
   "sideBar": true,
   "skip_h1_title": false,
   "toc_cell": false,
   "toc_position": {},
   "toc_section_display": "block",
   "toc_window_display": false
  }
 },
 "nbformat": 4,
 "nbformat_minor": 2
}
