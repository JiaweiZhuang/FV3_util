{
 "cells": [
  {
   "cell_type": "code",
   "execution_count": 1,
   "metadata": {
    "collapsed": true
   },
   "outputs": [],
   "source": [
    "%matplotlib inline\n",
    "import numpy as np\n",
    "import matplotlib.pyplot as plt\n",
    "import seaborn as sns;sns.set()\n",
    "\n",
    "import FV3log"
   ]
  },
  {
   "cell_type": "markdown",
   "metadata": {},
   "source": [
    "# Preprocessing"
   ]
  },
  {
   "cell_type": "code",
   "execution_count": 2,
   "metadata": {
    "collapsed": true
   },
   "outputs": [],
   "source": [
    "# global variables for convenience\n",
    "maindir = \"/Users/zhuangjw/Research/Computing/FV3/outputlog/\"\n",
    "\n",
    "var_list = ['plume0{0}'.format(i) for i in range(1,5)]\n",
    "\n",
    "Vres_list = [20,40,80,160]\n",
    "Hres_list = [48,96,192,384]\n",
    "\n",
    "Vlabels = ['L{0}'.format(r) for r in Vres_list]\n",
    "Hlabels = ['C{0}'.format(r) for r in Hres_list]"
   ]
  },
  {
   "cell_type": "code",
   "execution_count": 3,
   "metadata": {},
   "outputs": [
    {
     "data": {
      "text/plain": [
       "['plume01', 'plume02', 'plume03', 'plume04']"
      ]
     },
     "execution_count": 3,
     "metadata": {},
     "output_type": "execute_result"
    }
   ],
   "source": [
    "var_list"
   ]
  },
  {
   "cell_type": "code",
   "execution_count": 4,
   "metadata": {
    "collapsed": true
   },
   "outputs": [],
   "source": [
    "size_list = ['(1000km, 0.6km)', '(1000km, 1.2km)', \n",
    "             '(500km, 0.6km)', '(500km, 1.2km)']"
   ]
  },
  {
   "cell_type": "code",
   "execution_count": 5,
   "metadata": {},
   "outputs": [
    {
     "name": "stdout",
     "output_type": "stream",
     "text": [
      "\n",
      " open: C48L20_std.log C48L40_std.log C48L80_std.log C48L160_std.log \n",
      " open: C96L20_std.log C96L40_std.log C96L80_std.log C96L160_std.log \n",
      " open: C192L20_std.log C192L40_std.log C192L80_std.log C192L160_std.log \n",
      " open: C384L20_std.log C384L40_std.log C384L80_std.log C384L160_std.log "
     ]
    },
    {
     "data": {
      "text/plain": [
       "<xarray.Dataset>\n",
       "Dimensions:  (Hres: 4, Vres: 4, time: 9)\n",
       "Coordinates:\n",
       "  * time     (time) int64 0 1 2 3 4 5 6 7 8\n",
       "  * Vres     (Vres) int64 20 40 80 160\n",
       "  * Hres     (Hres) int64 48 96 192 384\n",
       "Data variables:\n",
       "    plume01  (Hres, Vres, time) float32 1.0 0.884535 0.541212 0.319658 ...\n",
       "    plume02  (Hres, Vres, time) float32 1.0 0.953083 0.627592 0.48241 ...\n",
       "    plume03  (Hres, Vres, time) float32 1.0 0.66268 0.372343 0.251123 ...\n",
       "    plume04  (Hres, Vres, time) float32 1.0 0.774934 0.533533 0.388228 ..."
      ]
     },
     "execution_count": 5,
     "metadata": {},
     "output_type": "execute_result"
    }
   ],
   "source": [
    "# Extract all results!\n",
    "ds = FV3log.extract_HsVs(maindir, var_list, Hres_list, Vres_list)\n",
    "ds"
   ]
  },
  {
   "cell_type": "code",
   "execution_count": 6,
   "metadata": {},
   "outputs": [
    {
     "data": {
      "text/plain": [
       "<xarray.Dataset>\n",
       "Dimensions:  (Hres: 4, Vres: 4)\n",
       "Coordinates:\n",
       "    time     int64 8\n",
       "  * Vres     (Vres) int64 20 40 80 160\n",
       "  * Hres     (Hres) int64 48 96 192 384\n",
       "Data variables:\n",
       "    plume01  (Hres, Vres) float32 0.093736 0.0973273 0.113596 0.117215 ...\n",
       "    plume02  (Hres, Vres) float32 0.140424 0.183006 0.191963 0.195699 ...\n",
       "    plume03  (Hres, Vres) float32 0.0659106 0.0833525 0.0971324 0.101795 ...\n",
       "    plume04  (Hres, Vres) float32 0.119348 0.144062 0.158039 0.1606 0.120923 ..."
      ]
     },
     "execution_count": 6,
     "metadata": {},
     "output_type": "execute_result"
    }
   ],
   "source": [
    "ds_end = ds.isel(time=-1)\n",
    "ds_end"
   ]
  },
  {
   "cell_type": "code",
   "execution_count": 7,
   "metadata": {},
   "outputs": [
    {
     "data": {
      "image/png": "[encoded data removed]",
      "text/plain": [
       "<matplotlib.figure.Figure at 0x1188db198>"
      ]
     },
     "metadata": {},
     "output_type": "display_data"
    }
   ],
   "source": [
    "palette = sns.color_palette()[0:4]\n",
    "sns.palplot(palette)"
   ]
  },
  {
   "cell_type": "code",
   "execution_count": null,
   "metadata": {},
   "outputs": [
    {
     "data": {
      "image/png": "[encoded data removed]",
      "text/plain": [
       "<matplotlib.figure.Figure at 0x1188dbe80>"
      ]
     },
     "metadata": {},
     "output_type": "display_data"
    }
   ],
   "source": [
    "# change the last color to black\n",
    "palette[3] = (0.0, 0.0, 0.0)\n",
    "sns.palplot(palette)"
   ]
  },
  {
   "cell_type": "markdown",
   "metadata": {},
   "source": [
    "# trend"
   ]
  },
  {
   "cell_type": "code",
   "execution_count": null,
   "metadata": {},
   "outputs": [],
   "source": [
    "dr = ds['plume01'] #only look at the \"standard plume\"\n",
    "\n",
    "titlesize, labelsize = [24,20]\n",
    "fig, axes = plt.subplots(2,2,figsize=[14,8])\n",
    "\n",
    "color_list = palette\n",
    "marker_list = ['.','d','o','D']\n",
    "alpha = 0.8\n",
    "linewidth = 2.5\n",
    "linestyle = '-'\n",
    "markersize = 12\n",
    "\n",
    "def set_detail(ax):\n",
    "    ax.set_ylim([0,1.05]);ax.set_xlim([-0.2,8.2])\n",
    "    ax.legend(fontsize=labelsize, loc=3)\n",
    "    ax.xaxis.set_tick_params(labelsize=20)\n",
    "    ax.yaxis.set_tick_params(labelsize=20)\n",
    "    \n",
    "        \n",
    "for i,Hres in enumerate(Hres_list[0:4:3]):\n",
    "    ax = axes[0][i]\n",
    "    if Hres == 48:\n",
    "        ax.set_title('Low horizontal resolution (C48)',fontsize=titlesize)\n",
    "    if Hres == 384:\n",
    "        ax.set_title('High horizontal resolution (C384)',fontsize=titlesize)\n",
    "    \n",
    "    for j,Vres in enumerate(Vres_list):\n",
    "        marker = marker_list[j]; color = color_list[j]; \n",
    "        \n",
    "        ax.plot(dr.sel(Hres=Hres,Vres=Vres),label='L{0}'.format(Vres),\n",
    "                linestyle=linestyle,linewidth=linewidth,markersize=markersize,\n",
    "                marker=marker,color=color,alpha=alpha)\n",
    "    set_detail(ax)\n",
    "    \n",
    "    ax.set_xticklabels([], [])\n",
    "    if i==0:\n",
    "        ax.set_ylabel('maximum VMR, v/v',fontsize=labelsize)\n",
    "    else:\n",
    "        ax.set_yticklabels([], [])\n",
    "        \n",
    "for i,Vres in enumerate(Vres_list[0:4:3]):\n",
    "    ax = axes[1][i]\n",
    "    if Vres == 20:\n",
    "        ax.set_title('Low vertical resolution (L20)',fontsize=titlesize)\n",
    "    if Vres == 160:\n",
    "        ax.set_title('High vertical resolution (L160)',fontsize=titlesize)\n",
    "    \n",
    "    for j,Hres in enumerate(Hres_list):\n",
    "        marker = marker_list[j]; color = color_list[j]; \n",
    "        \n",
    "        ax.plot(dr.sel(Hres=Hres,Vres=Vres),label='C{0}'.format(Hres),\n",
    "                linestyle=linestyle,linewidth=linewidth,markersize=markersize,\n",
    "                marker=marker,color=color,alpha=alpha)\n",
    "    set_detail(ax)\n",
    "    ax.set_xlabel('day',fontsize=labelsize)\n",
    "    if i==0:\n",
    "        ax.set_ylabel('maximum VMR, v/v',fontsize=labelsize)\n",
    "    else:\n",
    "        ax.set_yticklabels([], [])\n",
    "        \n",
    "    #plt.xticks(fontsize=labelsize);plt.yticks(fontsize=labelsize)\n",
    "    \n",
    "fig.tight_layout()\n",
    "fig.savefig('plume01_trend.png',dpi=200)"
   ]
  },
  {
   "cell_type": "markdown",
   "metadata": {},
   "source": [
    "# last day"
   ]
  },
  {
   "cell_type": "markdown",
   "metadata": {},
   "source": [
    "## 2D contour"
   ]
  },
  {
   "cell_type": "code",
   "execution_count": null,
   "metadata": {},
   "outputs": [],
   "source": [
    "dr_end = ds_end['plume01']\n",
    "dr_end "
   ]
  },
  {
   "cell_type": "code",
   "execution_count": null,
   "metadata": {},
   "outputs": [],
   "source": [
    "dr_end.to_pandas()"
   ]
  },
  {
   "cell_type": "code",
   "execution_count": null,
   "metadata": {},
   "outputs": [],
   "source": [
    "'{:.3f}'.format(dr_end.values[0,0])"
   ]
  },
  {
   "cell_type": "markdown",
   "metadata": {},
   "source": [
    "### pcolormesh"
   ]
  },
  {
   "cell_type": "code",
   "execution_count": null,
   "metadata": {},
   "outputs": [],
   "source": [
    "plt.pcolormesh(dr_end.values, \n",
    "               cmap='viridis')\n",
    "plt.colorbar().set_label('maximum VMR (v/v)')\n",
    "\n",
    "xs = ys = np.arange(4)+0.5\n",
    "plt.xticks( xs , Hlabels );\n",
    "plt.yticks( ys , Vlabels );\n",
    "\n",
    "plt.savefig('heatmap.png',dpi=200)"
   ]
  },
  {
   "cell_type": "code",
   "execution_count": null,
   "metadata": {},
   "outputs": [],
   "source": [
    "# overlay number\n",
    "\n",
    "plt.pcolormesh(dr_end.values, \n",
    "               cmap='viridis')\n",
    "plt.colorbar().set_label('maximum VMR (v/v)')\n",
    "\n",
    "xs = ys = np.arange(4)+0.5\n",
    "plt.xticks( xs , Hlabels );\n",
    "plt.yticks( ys , Vlabels );\n",
    "\n",
    "for i in range(4):\n",
    "    for j in range(4):\n",
    "        plt.text(xs[i]-0.2 ,ys[j] , \n",
    "                 '{:.2f}'.format(dr_end.values[i,j]),\n",
    "                 color=palette[2], fontsize=15)\n",
    "        \n",
    "plt.savefig('heatmap_with_number.png',dpi=200)"
   ]
  },
  {
   "cell_type": "markdown",
   "metadata": {},
   "source": [
    "### Contour fill"
   ]
  },
  {
   "cell_type": "code",
   "execution_count": null,
   "metadata": {},
   "outputs": [],
   "source": [
    "plt.contourf(dr_end.values, cmap='viridis', \n",
    "             levels = np.linspace(0, 0.7, 22))\n",
    "plt.colorbar().set_label('maximum VMR (v/v)')\n",
    "\n",
    "xs = ys = np.arange(4)\n",
    "plt.xticks( xs, Hlabels );\n",
    "plt.yticks( ys, Vlabels );\n",
    "\n",
    "xxs, yys = np.meshgrid(xs,ys)\n",
    "plt.scatter(xxs, yys, color=palette[2])\n",
    "plt.xlim([-0.05,3.05]);plt.ylim([-0.05,3.05])\n",
    "\n",
    "plt.savefig('contour.png',dpi=200)"
   ]
  },
  {
   "cell_type": "code",
   "execution_count": null,
   "metadata": {},
   "outputs": [],
   "source": [
    "dx_list = 200/np.array([1,2,4,8])\n",
    "dz_list = 0.6/np.array([1,2,4,8])\n",
    "dx_list"
   ]
  },
  {
   "cell_type": "code",
   "execution_count": null,
   "metadata": {},
   "outputs": [],
   "source": [
    "plt.contourf(dx_list, dz_list, dr_end.values,\n",
    "             levels = np.linspace(0, 0.7, 22),\n",
    "             cmap='viridis')\n",
    "plt.colorbar().set_label('maximum VMR (v/v)')\n",
    "plt.xlabel('dx (km)');plt.ylabel('dz (km)')\n",
    "\n",
    "xxs, yys = np.meshgrid(dx_list,dz_list)\n",
    "plt.scatter(xxs, yys, color=palette[2])\n",
    "plt.xlim([24,202]);plt.ylim([0.6/8*0.9, 0.605])\n",
    "\n",
    "if 0:\n",
    "    # add dx/dz constant line\n",
    "    dx = np.arange(0,200)\n",
    "    opts = 200/0.6 # optimal scaling\n",
    "    \n",
    "    plt.plot(dx, dx/opts, color='w')\n",
    "    plt.plot(dx, dx/opts/2, color='w')\n",
    "    plt.plot(dx, dx/opts/4, color='w')\n",
    "    plt.plot(dx, dx/opts*2, color='w')\n",
    "    plt.plot(dx, dx/opts*4, color='w')\n",
    "    \n",
    "    plt.text(150,0.56,'dx/dz=300', color='w')\n",
    "    plt.text(100,0.58,'dx/dz=150', color='w')\n",
    "    plt.text(50,0.58,'dx/dz=75', color='w')\n",
    "    plt.text(150,0.3,'dx/dz=600', color='w')\n",
    "    plt.text(150,0.15,'dx/dz=1200', color='w')\n",
    "    \n",
    "if 1:\n",
    "    # computational constaint\n",
    "    dxx = np.linspace(25,200)\n",
    "    dzz = 0.3e6/dxx**3\n",
    "    text = '$dz*dx^3=const$'\n",
    "    #dzz = 0.3e4/dxx**2\n",
    "    #text = '$dz*dx^2=const$'\n",
    "    \n",
    "    plt.plot(dxx,dzz,c='w')\n",
    "    for level in [1/32,1/4,2,4]:\n",
    "        plt.plot(dxx,level*dzz,c='w')\n",
    "    plt.text(130,0.55,text,color='w')\n",
    "\n",
    "#plt.xscale('log')\n",
    "#plt.yscale('log')\n",
    "    \n",
    "#plt.savefig('contour_comp_constaint.png',dpi=200)\n",
    "#plt.savefig('contour_const_scaling.png',dpi=200)"
   ]
  },
  {
   "cell_type": "markdown",
   "metadata": {},
   "source": [
    "### Log scale contour"
   ]
  },
  {
   "cell_type": "code",
   "execution_count": null,
   "metadata": {
    "collapsed": true
   },
   "outputs": [],
   "source": [
    "sns.set_style(\"dark\") # remove gridline"
   ]
  },
  {
   "cell_type": "markdown",
   "metadata": {},
   "source": [
    "There's an issue with log ticks, see\n",
    "- https://stackoverflow.com/questions/46498157/overlapping-axis-tick-labels-in-logarithmic-plots\n",
    "\n",
    "need to call `ax.minorticks_off()` to remove them and mannually reset."
   ]
  },
  {
   "cell_type": "code",
   "execution_count": null,
   "metadata": {
    "scrolled": true
   },
   "outputs": [],
   "source": [
    "fig = plt.figure(figsize=[5, 5])\n",
    "ax = fig.add_subplot(1,1,1)\n",
    "\n",
    "# switch to log scale\n",
    "def log_switch(ax):\n",
    "    ax.set_xscale('log')\n",
    "    ax.set_yscale('log')\n",
    "\n",
    "    # fix ticks\n",
    "    ax.minorticks_off()\n",
    "    \n",
    "    ax.set_xticks(dx_list)\n",
    "    ax.set_xticklabels(['200\\n(C48)', \n",
    "                        '100\\n(C96)',\n",
    "                        '50\\n(C192)',\n",
    "                        '25\\n(C384)']) \n",
    "    \n",
    "    ax.set_yticks(dz_list)\n",
    "    ax.set_yticklabels(['0.6\\n(L20)', \n",
    "                        '0.3\\n(L40)',\n",
    "                        '0.15\\n(L80)',\n",
    "                        '0.075\\n(L160)'])\n",
    "    \n",
    "    # make label fonts larger\n",
    "    ax.xaxis.set_tick_params(labelsize=13)\n",
    "    ax.yaxis.set_tick_params(labelsize=13)\n",
    "    ax.set_xlabel('$\\Delta x$, km', fontsize=15)\n",
    "    ax.set_ylabel('$\\Delta z$, km', fontsize=15)\n",
    "\n",
    "log_switch(ax)\n",
    "    \n",
    "# make filled-contour plot\n",
    "im = ax.contourf(dx_list, dz_list, dr_end.values,\n",
    "                 levels = np.linspace(0, 0.7, 8),\n",
    "                 cmap='viridis')\n",
    "ax.set_title('maximum VMR', fontsize=16)\n",
    "cb = fig.colorbar(im, ax=ax, orientation='horizontal', pad=0.2)\n",
    "cb.set_label('maximum VMR, v/v', fontsize=15)\n",
    "cb.ax.tick_params(labelsize=13) \n",
    "\n",
    "# overlay data points\n",
    "def add_data(ax):\n",
    "    xxs, yys = np.meshgrid(dx_list,dz_list)\n",
    "    ax.scatter(xxs, yys, color=palette[2])\n",
    "    ax.set_xlim([24.5,205])\n",
    "    ax.set_ylim([0.6/8*0.96, 0.62])\n",
    "    #ax.set_ylim([0.6/16*0.96, 0.62]) # extrapolation\n",
    "\n",
    "add_data(ax)\n",
    "    \n",
    "# overlay constraint lines\n",
    "def add_constraint(order=[2,3]):\n",
    "    \n",
    "    if 3 in order:\n",
    "        # computational constaint\n",
    "        dxx = np.linspace(25,200)\n",
    "        dzz = 0.3e6/dxx**3\n",
    "        color = 'yellow'\n",
    "\n",
    "        for level in [1/32, 1/4, 2]:\n",
    "            plt.plot(dxx,level*dzz,c=color)\n",
    "            \n",
    "        t = plt.text(30,0.38,'$\\Delta z \\cdot \\Delta x^3=C$',\n",
    "                 color=color, fontsize=16)\n",
    "        t.set_bbox(dict(facecolor='k', alpha=0.5))\n",
    "\n",
    "    if 2 in order:\n",
    "        # box number constaint\n",
    "        dxx = np.linspace(25,200)\n",
    "        dzz = 0.15e4/dxx**2\n",
    "        color = 'white'\n",
    "\n",
    "        for level in [1/16, 1/4, 1, 4]:\n",
    "            plt.plot(dxx,level*dzz,c=color)\n",
    "        t = plt.text(30,0.48,'$\\Delta z \\cdot \\Delta x^2=C$',\n",
    "                 color=color, fontsize=16)\n",
    "        t.set_bbox(dict(facecolor='k', alpha=0.5))\n",
    "\n",
    "    if 1 in order:\n",
    "        # 2D box number constaint\n",
    "        dxx = np.linspace(25,200)\n",
    "        dzz = 30/dxx\n",
    "        color = 'w'\n",
    "\n",
    "        for level in [1/8,1/4, 1/2, 1, 2]:\n",
    "            plt.plot(dxx,level*dzz,c=color)\n",
    "        plt.text(32,0.50,'$\\Delta z \\cdot \\Delta x=C$',color=color)\n",
    "\n",
    "add_constraint(order=[2,3])\n",
    "        \n",
    "#fig.savefig('VMR_contour_2D_constraint.png',dpi=200)\n",
    "fig.tight_layout()\n",
    "fig.savefig('VMR_contour_3D_constraint.png',dpi=200)"
   ]
  },
  {
   "cell_type": "markdown",
   "metadata": {},
   "source": [
    "### Entropy"
   ]
  },
  {
   "cell_type": "code",
   "execution_count": null,
   "metadata": {
    "collapsed": true
   },
   "outputs": [],
   "source": [
    "import xarray as xr\n",
    "maindir = \"../small_output/\"\n",
    "dr_E = xr.open_dataarray(maindir+'plume01_entropy_all.nc',decode_times=False)\n",
    "dr_E = dr_E.isel(time=-1)/dr_E.isel(time=0) # last day normalize by initial condition"
   ]
  },
  {
   "cell_type": "code",
   "execution_count": null,
   "metadata": {},
   "outputs": [],
   "source": [
    "dr_E"
   ]
  },
  {
   "cell_type": "code",
   "execution_count": null,
   "metadata": {
    "collapsed": true
   },
   "outputs": [],
   "source": [
    "dr_E = np.clip(dr_E,13,20)"
   ]
  },
  {
   "cell_type": "code",
   "execution_count": null,
   "metadata": {},
   "outputs": [],
   "source": [
    "fig = plt.figure(figsize=[5, 5])\n",
    "ax = fig.add_subplot(1,1,1)\n",
    "\n",
    "log_switch(ax)\n",
    "\n",
    "im = ax.contourf(dx_list, dz_list, dr_E.values, cmap='viridis_r',\n",
    "                 levels = np.linspace(13, 20, 8))\n",
    "ax.set_title('entropy', fontsize=16)\n",
    "\n",
    "cb = fig.colorbar(im, ax=ax, orientation='horizontal', pad=0.2)\n",
    "cb.set_label('entropy', fontsize=15)\n",
    "cb.ax.tick_params(labelsize=13) \n",
    "\n",
    "add_data(ax)\n",
    "add_constraint()\n",
    "\n",
    "fig.tight_layout()\n",
    "fig.savefig('entropy_contour_3D_constraint.png',dpi=200)"
   ]
  },
  {
   "cell_type": "markdown",
   "metadata": {},
   "source": [
    "## 3D"
   ]
  },
  {
   "cell_type": "code",
   "execution_count": null,
   "metadata": {},
   "outputs": [],
   "source": [
    "import matplotlib as mpl\n",
    "from mpl_toolkits.mplot3d import Axes3D\n",
    "import matplotlib.cm as cm\n",
    "import matplotlib.colors as colors\n",
    "\n",
    "fig, ax = plt.subplots(1,1,figsize=[10,6],subplot_kw=dict(projection='3d'))\n",
    "\n",
    "testdata = ds_end['plume01'].values\n",
    "\n",
    "# Make data.\n",
    "\n",
    "# fake data\n",
    "_x = np.arange(4,0,-1)\n",
    "_y = np.arange(4)\n",
    "_xx, _yy = np.meshgrid(_x, _y)\n",
    "x, y = _xx.ravel(), _yy.ravel()\n",
    "\n",
    "top = testdata.ravel()\n",
    "bottom = np.zeros_like(top)\n",
    "width = depth = 1\n",
    "\n",
    "fracs = top\n",
    "#norm = colors.Normalize(fracs.min(), fracs.max())\n",
    "norm = colors.Normalize(0, 1)\n",
    "cmap = cm.Blues(norm(fracs))\n",
    "#cmap[:,3] = 0.8 #alpha\n",
    "\n",
    "ax.bar3d(x, y, bottom, width, depth, top, color=cmap, alpha=0.2)\n",
    "\n",
    "ax.set_zlim([0,1])\n",
    "ax.set_title('Maximum VMR at the last day', fontsize=25)\n",
    "ax.set_xticks(_x+0.5); ax.set_xticklabels(Vlabels, fontsize=20)\n",
    "ax.set_yticks(_y+0.5); ax.set_yticklabels(Hlabels, fontsize=20)\n",
    "ax.set_zticks(np.arange(0,1.1,0.2)); ax.set_zticklabels(np.arange(0,1.1,0.2), fontsize=20)\n",
    "\n",
    "ax1 = fig.add_axes([0.85, 0.35, 0.015, 0.28])\n",
    "cb1 = mpl.colorbar.ColorbarBase(ax1, cmap= cm.Blues,\n",
    "                                norm=colors.Normalize(0,0.6),\n",
    "                                orientation='vertical')\n",
    "#cb1.set_label('Maximum VMR, v/v',fontsize=16)\n",
    "cb1.set_ticks([])\n",
    "\n",
    "\n",
    "plt.tight_layout()\n",
    "#fig.savefig('plume01_lastdayVMR.png',dpi=200)"
   ]
  },
  {
   "cell_type": "markdown",
   "metadata": {},
   "source": [
    "# Plume size effect"
   ]
  },
  {
   "cell_type": "code",
   "execution_count": null,
   "metadata": {},
   "outputs": [],
   "source": [
    "from mpl_toolkits.mplot3d import Axes3D\n",
    "import matplotlib.cm as cm\n",
    "import matplotlib.colors as colors\n",
    "\n",
    "fig, axes = plt.subplots(2,2,figsize=[12,6],subplot_kw=dict(projection='3d'))\n",
    "\n",
    "for k,var in enumerate(var_list):\n",
    "\n",
    "    ax = axes.flatten()[k]\n",
    "    testdata = ds_end[var].values\n",
    "    \n",
    "    # Make data.\n",
    "\n",
    "    # fake data\n",
    "    _x = np.arange(4,0,-1)\n",
    "    _y = np.arange(4)\n",
    "    _xx, _yy = np.meshgrid(_x, _y)\n",
    "    x, y = _xx.ravel(), _yy.ravel()\n",
    "\n",
    "    top = testdata.ravel()\n",
    "    bottom = np.zeros_like(top)\n",
    "    width = depth = 1\n",
    "\n",
    "    fracs = top\n",
    "    #norm = colors.Normalize(fracs.min(), fracs.max())\n",
    "    norm = colors.Normalize(0, 1)\n",
    "    cmap = cm.Blues(norm(fracs))\n",
    "    #cmap[:,3] = 0.8 #alpha\n",
    "    \n",
    "    ax.bar3d(x, y, bottom, width, depth, top, color=cmap, alpha=0.2)\n",
    "\n",
    "    ax.set_zlim([0,1])\n",
    "    ax.set_title('(L,H) = '+size_list[k], fontsize=20)\n",
    "    ax.set_xticks(_x+0.5); ax.set_xticklabels(Vlabels)\n",
    "    ax.set_yticks(_y+0.5); ax.set_yticklabels(Hlabels)\n",
    "    \n",
    "plt.tight_layout()\n",
    "#fig.savefig('plume_size_effect.png',dpi=200)"
   ]
  },
  {
   "cell_type": "code",
   "execution_count": null,
   "metadata": {
    "collapsed": true
   },
   "outputs": [],
   "source": []
  }
 ],
 "metadata": {
  "kernelspec": {
   "display_name": "Python 3",
   "language": "python",
   "name": "python3"
  },
  "language_info": {
   "codemirror_mode": {
    "name": "ipython",
    "version": 3
   },
   "file_extension": ".py",
   "mimetype": "text/x-python",
   "name": "python",
   "nbconvert_exporter": "python",
   "pygments_lexer": "ipython3",
   "version": "3.6.2"
  },
  "toc": {
   "nav_menu": {},
   "number_sections": true,
   "sideBar": true,
   "skip_h1_title": false,
   "toc_cell": false,
   "toc_position": {
    "height": "379px",
    "left": "0px",
    "right": "auto",
    "top": "105px",
    "width": "212px"
   },
   "toc_section_display": "block",
   "toc_window_display": false
  }
 },
 "nbformat": 4,
 "nbformat_minor": 2
}
