{
 "cells": [
  {
   "cell_type": "code",
   "execution_count": 1,
   "metadata": {
    "collapsed": true
   },
   "outputs": [],
   "source": [
    "%matplotlib inline\n",
    "import numpy as np\n",
    "import pandas as pd\n",
    "import xarray as xr\n",
    "\n",
    "import matplotlib.pyplot as plt\n",
    "import seaborn as sns"
   ]
  },
  {
   "cell_type": "code",
   "execution_count": 8,
   "metadata": {
    "collapsed": true
   },
   "outputs": [],
   "source": [
    "from collections import OrderedDict\n",
    "\n",
    "def extract(logfile, var_list, thin=48, pos=3):\n",
    "    \"\"\"\n",
    "    logfile: str\n",
    "    \n",
    "    var_list: a list of variable names\n",
    "    \n",
    "    thin: should thin more at shorter time step\n",
    "          48 = one value per day at C48\n",
    "    \n",
    "    pos: 3 = the maximum value (the 4-th word in a line)\n",
    "         6 = the minimum value (the 7-th word in a line)\n",
    "    \"\"\"\n",
    "        \n",
    "    # Data are hold as ordered dictionary\n",
    "    # 'plume01' - list\n",
    "    # 'plume02' - list\n",
    "    data_dict = OrderedDict()\n",
    "    for varname in var_list:\n",
    "        data_dict[varname]=[]\n",
    "    \n",
    "    # scan by line\n",
    "    with open(logfile, 'r') as fi:        \n",
    "        for ln in fi:\n",
    "            for varname in var_list:\n",
    "                # to be safe, match 2 patterns\n",
    "                if varname in ln and 'max =' in ln:\n",
    "                    # get the pos+1-th word\n",
    "                    data_dict[varname].append(ln.split()[pos]) \n",
    "                \n",
    "    # thin the data and convert to numpy array \n",
    "    for varname in var_list:\n",
    "        data_dict[varname] = np.array(data_dict[varname][::thin],\n",
    "                                      dtype=np.float32)\n",
    "                    \n",
    "    # convert the dict from extract() to one-dimenisional DataSet\n",
    "    ds = pd.DataFrame.from_dict(data_dict).to_xarray().\\\n",
    "         rename(dict(index='time'),inplace=True)\n",
    "    \n",
    "    return ds"
   ]
  },
  {
   "cell_type": "code",
   "execution_count": 9,
   "metadata": {
    "collapsed": false
   },
   "outputs": [
    {
     "data": {
      "text/plain": [
       "<xarray.Dataset>\n",
       "Dimensions:  (time: 9)\n",
       "Coordinates:\n",
       "  * time     (time) int64 0 1 2 3 4 5 6 7 8\n",
       "Data variables:\n",
       "    plume01  (time) float32 1.0 0.884535 0.541212 0.319658 0.223772 0.184812 ...\n",
       "    plume02  (time) float32 1.0 0.953083 0.627592 0.48241 0.321449 0.234891 ...\n",
       "    plume03  (time) float32 1.0 0.66268 0.372343 0.251123 0.179862 0.137592 ...\n",
       "    plume04  (time) float32 1.0 0.774934 0.533533 0.388228 0.263247 0.197932 ..."
      ]
     },
     "execution_count": 9,
     "metadata": {},
     "output_type": "execute_result"
    }
   ],
   "source": [
    "# test function\n",
    "maindir = \"/Users/desnow/Research/FV3/logfile_FV3/\"\n",
    "var_list = ['plume0{0}'.format(i) for i in range(1,5)]\n",
    "\n",
    "extract(maindir+'C48L20_std.log',var_list=var_list)"
   ]
  },
  {
   "cell_type": "code",
   "execution_count": 10,
   "metadata": {
    "collapsed": true
   },
   "outputs": [],
   "source": [
    "# Loop over vertical res\n",
    "\n",
    "def extract_Vs(maindir, var_list, Hres, Vres_list, thin=48, pos=3, suffix='_std.log'):\n",
    "\n",
    "    ds_Vs_arr = [] # list if timeseries at vertical different resolutions\n",
    "\n",
    "    for Vres in Vres_list:\n",
    "        logfile = 'C{0}L{1}'.format(Hres,Vres)+suffix\n",
    "        print('open:',logfile)\n",
    "        ds_Vs_arr.append( extract(maindir+logfile, var_list,\n",
    "                                  thin=thin, pos=pos) )\n",
    "\n",
    "    ds_Vs = xr.concat(ds_Vs_arr, dim='Vres')\n",
    "    ds_Vs[\"Vres\"]=np.array(Vres_list)\n",
    "    return ds_Vs"
   ]
  },
  {
   "cell_type": "code",
   "execution_count": 11,
   "metadata": {
    "collapsed": false
   },
   "outputs": [
    {
     "name": "stdout",
     "output_type": "stream",
     "text": [
      "open: C48L20_std.log\n",
      "open: C48L40_std.log\n",
      "open: C48L80_std.log\n",
      "open: C48L160_std.log\n"
     ]
    },
    {
     "data": {
      "text/plain": [
       "<xarray.Dataset>\n",
       "Dimensions:  (Vres: 4, time: 9)\n",
       "Coordinates:\n",
       "  * time     (time) int64 0 1 2 3 4 5 6 7 8\n",
       "  * Vres     (Vres) int64 20 40 80 160\n",
       "Data variables:\n",
       "    plume01  (Vres, time) float32 1.0 0.884535 0.541212 0.319658 0.223772 ...\n",
       "    plume02  (Vres, time) float32 1.0 0.953083 0.627592 0.48241 0.321449 ...\n",
       "    plume03  (Vres, time) float32 1.0 0.66268 0.372343 0.251123 0.179862 ...\n",
       "    plume04  (Vres, time) float32 1.0 0.774934 0.533533 0.388228 0.263247 ..."
      ]
     },
     "execution_count": 11,
     "metadata": {},
     "output_type": "execute_result"
    }
   ],
   "source": [
    "# Test vertical res function\n",
    "maindir = \"/Users/desnow/Research/FV3/logfile_FV3/\"\n",
    "Vres_list = [20,40,80,160]\n",
    "Hres = 48\n",
    "varname_list = ['plume0{0}'.format(i) for i in range(1,5)]\n",
    "\n",
    "extract_Vs(maindir, var_list, Hres, Vres_list)"
   ]
  },
  {
   "cell_type": "code",
   "execution_count": 18,
   "metadata": {
    "collapsed": false
   },
   "outputs": [],
   "source": [
    "# Loop over horizontal res\n",
    "\n",
    "def extract_HsVs(maindir, var_list, Hres_list, Vres_list, \n",
    "                 thin_base=48, pos=3, suffix='_std.log'):\n",
    "\n",
    "    ds_HsVs_arr = [] # list of timeseries at different horizontal and vertical resolutions\n",
    "\n",
    "    for Hres in Hres_list:\n",
    "        \n",
    "        # thin more at higher horizontal resolutiom (more time steps)\n",
    "        ds_HsVs_arr.append( extract_Vs(maindir, var_list, Hres, Vres_list ,\n",
    "                                       thin=np.int(thin_base*Hres/48)) )\n",
    "\n",
    "    ds_HsVs = xr.concat(ds_HsVs_arr, dim='Hres')\n",
    "    ds_HsVs[\"Hres\"]=np.array(Hres_list)\n",
    "    \n",
    "    return ds_HsVs"
   ]
  },
  {
   "cell_type": "code",
   "execution_count": 24,
   "metadata": {
    "collapsed": false
   },
   "outputs": [
    {
     "name": "stdout",
     "output_type": "stream",
     "text": [
      "open: C48L20_std.log\n",
      "open: C48L40_std.log\n",
      "open: C48L80_std.log\n",
      "open: C48L160_std.log\n",
      "open: C96L20_std.log\n",
      "open: C96L40_std.log\n",
      "open: C96L80_std.log\n",
      "open: C96L160_std.log\n",
      "open: C192L20_std.log\n",
      "open: C192L40_std.log\n",
      "open: C192L80_std.log\n",
      "open: C192L160_std.log\n",
      "open: C384L20_std.log\n",
      "open: C384L40_std.log\n",
      "open: C384L80_std.log\n",
      "open: C384L160_std.log\n"
     ]
    },
    {
     "data": {
      "text/plain": [
       "<xarray.Dataset>\n",
       "Dimensions:  (Hres: 4, Vres: 4, time: 9)\n",
       "Coordinates:\n",
       "  * time     (time) int64 0 1 2 3 4 5 6 7 8\n",
       "  * Vres     (Vres) int64 20 40 80 160\n",
       "  * Hres     (Hres) int64 48 96 192 384\n",
       "Data variables:\n",
       "    plume01  (Hres, Vres, time) float32 1.0 0.884535 0.541212 0.319658 ...\n",
       "    plume02  (Hres, Vres, time) float32 1.0 0.953083 0.627592 0.48241 ...\n",
       "    plume03  (Hres, Vres, time) float32 1.0 0.66268 0.372343 0.251123 ...\n",
       "    plume04  (Hres, Vres, time) float32 1.0 0.774934 0.533533 0.388228 ..."
      ]
     },
     "execution_count": 24,
     "metadata": {},
     "output_type": "execute_result"
    }
   ],
   "source": [
    "# Extract all results!\n",
    "\n",
    "maindir = \"/Users/desnow/Research/FV3/logfile_FV3/\"\n",
    "Vres_list = [20,40,80,160]\n",
    "Hres_list = [48,96,192,384]\n",
    "varname_list = ['plume0{0}'.format(i) for i in range(1,5)]\n",
    "\n",
    "ds = extract_HsVs(maindir, var_list, Hres_list, Vres_list)\n",
    "ds"
   ]
  },
  {
   "cell_type": "code",
   "execution_count": 33,
   "metadata": {
    "collapsed": false
   },
   "outputs": [
    {
     "data": {
      "text/plain": [
       "<matplotlib.collections.QuadMesh at 0x11486dba8>"
      ]
     },
     "execution_count": 33,
     "metadata": {},
     "output_type": "execute_result"
    },
    {
     "data": {
      "image/png": "[encoded data removed]",
      "text/plain": [
       "<matplotlib.figure.Figure at 0x114782f28>"
      ]
     },
     "metadata": {},
     "output_type": "display_data"
    }
   ],
   "source": [
    "ds['plume01'].sel(time=4).plot(cmap='jet')"
   ]
  },
  {
   "cell_type": "code",
   "execution_count": null,
   "metadata": {
    "collapsed": true
   },
   "outputs": [],
   "source": []
  }
 ],
 "metadata": {
  "kernelspec": {
   "display_name": "Python 3",
   "language": "python",
   "name": "python3"
  },
  "language_info": {
   "codemirror_mode": {
    "name": "ipython",
    "version": 3
   },
   "file_extension": ".py",
   "mimetype": "text/x-python",
   "name": "python",
   "nbconvert_exporter": "python",
   "pygments_lexer": "ipython3",
   "version": "3.5.2"
  }
 },
 "nbformat": 4,
 "nbformat_minor": 2
}
