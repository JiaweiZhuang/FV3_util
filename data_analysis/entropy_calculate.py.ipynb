{
 "cells": [
  {
   "cell_type": "code",
   "execution_count": 1,
   "metadata": {
    "collapsed": true
   },
   "outputs": [],
   "source": [
    "%matplotlib inline\n",
    "import numpy as np\n",
    "import xarray as xr\n",
    "import cubedsphere as cs"
   ]
  },
  {
   "cell_type": "code",
   "execution_count": 2,
   "metadata": {
    "collapsed": true
   },
   "outputs": [],
   "source": [
    "Vres_list = [20,40,80,160]\n",
    "Hres_list = [48,96,192,384]\n",
    "eps = 1e-10\n",
    "scaling = 1e-9 # make area smaller"
   ]
  },
  {
   "cell_type": "code",
   "execution_count": 4,
   "metadata": {},
   "outputs": [
    {
     "name": "stdout",
     "output_type": "stream",
     "text": [
      "loading 48 20 calculating... writting...\n",
      "loading 48 40 calculating... writting...\n",
      "loading 48 80 calculating... writting...\n",
      "loading 48 160 calculating... writting...\n",
      "loading 96 20 calculating... writting...\n",
      "loading 96 40 calculating... writting...\n",
      "loading 96 80 calculating... writting...\n",
      "loading 96 160 calculating... writting...\n",
      "loading 192 20 calculating... writting...\n",
      "loading 192 40 calculating... writting...\n",
      "loading 192 80 calculating... writting...\n",
      "loading 192 160 calculating... writting...\n",
      "loading 384 20 calculating... writting...\n",
      "loading 384 40 calculating... writting...\n",
      "loading 384 80 calculating... writting...\n",
      "loading 384 160 calculating... writting...\n"
     ]
    }
   ],
   "source": [
    "# warning: this cell takes very long to run!\n",
    "\n",
    "for i,Hres in enumerate(Hres_list):\n",
    "    for j,Vres in enumerate(Vres_list):\n",
    "        print('loading',Hres,Vres,end=' ')\n",
    "        datadir = (\"../../output/C{0}/C{0}L{1}/\".format(Hres,Vres))\n",
    "        ds = cs.open_FV3data(datadir,\"tracer_daily\")\n",
    "        dr = ds['plume01'].load()\n",
    "        \n",
    "        dr.values[dr.values<eps] = eps # correct negative values\n",
    "        \n",
    "        print('calculating...',end=' ')\n",
    "        # higher-Vres layers are thiner\n",
    "        dr_entro = (-dr*np.log(dr)*dr['area']*scaling/Vres).sum(dim=['tile','pfull','y','x'])\n",
    "        \n",
    "        print('writting...',end='\\n')\n",
    "        dr_entro.to_netcdf('plume01_entropy_C{0}L{1}.nc'.format(Hres,Vres))"
   ]
  },
  {
   "cell_type": "markdown",
   "metadata": {},
   "source": [
    "## initial entropy"
   ]
  },
  {
   "cell_type": "code",
   "execution_count": 64,
   "metadata": {
    "collapsed": true
   },
   "outputs": [],
   "source": [
    "ds_init = cs.open_FV3data('../../rundirs/C48/INPUT/',\"fv_tracer.res\",restart=True)"
   ]
  },
  {
   "cell_type": "code",
   "execution_count": 65,
   "metadata": {},
   "outputs": [
    {
     "data": {
      "text/plain": [
       "<xarray.DataArray (time: 1)>\n",
       "dask.array<sum-aggregate, shape=(1,), dtype=float64, chunksize=(1,)>\n",
       "Coordinates:\n",
       "  * time     (time) float64 8.0"
      ]
     },
     "execution_count": 65,
     "metadata": {},
     "output_type": "execute_result"
    }
   ],
   "source": [
    "dr_init = ds_init['plume06']\n",
    "dr_init_entro = (-dr_init*np.log(dr_init)*dr_init['area']*scaling/20).sum(dim=['tile','pfull','y','x'])\n",
    "dr_init_entro['time'] += 7.0\n",
    "dr_init_entro"
   ]
  },
  {
   "cell_type": "code",
   "execution_count": 66,
   "metadata": {},
   "outputs": [
    {
     "data": {
      "text/plain": [
       "<xarray.DataArray (time: 9)>\n",
       "dask.array<concatenate, shape=(9,), dtype=float64, chunksize=(1,)>\n",
       "Coordinates:\n",
       "  * time     (time) float64 8.0 9.0 10.0 11.0 12.0 13.0 14.0 15.0 16.0"
      ]
     },
     "execution_count": 66,
     "metadata": {},
     "output_type": "execute_result"
    }
   ],
   "source": [
    "dr_temp =  xr.open_dataarray(maindir+'plume01_entropy_C{0}L{1}'.format(48,20),\n",
    "                             decode_times=False)\n",
    "xr.concat([dr_init_entro,dr_temp],'time')"
   ]
  },
  {
   "cell_type": "markdown",
   "metadata": {},
   "source": [
    "## Merge all files"
   ]
  },
  {
   "cell_type": "code",
   "execution_count": 67,
   "metadata": {
    "collapsed": true
   },
   "outputs": [],
   "source": [
    "maindir = \"~/FV3/output/processed/entropy/\"\n",
    "\n",
    "ds_HsVs_arr = [] # list of timeseries at different horizontal and vertical resolutions\n",
    "\n",
    "for Hres in Hres_list:\n",
    "    ds_Vs_arr = [] # list of timeseries at vertical different resolutions\n",
    "    for Vres in Vres_list:\n",
    "        \n",
    "        dr_temp =  xr.open_dataarray(maindir+'plume01_entropy_C{0}L{1}.nc'.format(Hres,Vres),\n",
    "                                     decode_times=False)\n",
    "        dr_temp = xr.concat([dr_init_entro,dr_temp],'time')\n",
    "        \n",
    "        ds_Vs_arr.append( dr_temp.copy()) \n",
    "            \n",
    "        ds_Vs = xr.concat(ds_Vs_arr, dim='Vres')\n",
    "        ds_Vs[\"Vres\"]=np.array(Vres_list)\n",
    "        \n",
    "    ds_HsVs_arr.append( ds_Vs )\n",
    "\n",
    "ds_HsVs = xr.concat(ds_HsVs_arr, dim='Hres')\n",
    "ds_HsVs[\"Hres\"]=np.array(Hres_list)"
   ]
  },
  {
   "cell_type": "markdown",
   "metadata": {},
   "source": [
    "### creat new file"
   ]
  },
  {
   "cell_type": "code",
   "execution_count": 68,
   "metadata": {
    "collapsed": true
   },
   "outputs": [],
   "source": [
    "ds_HsVs.to_netcdf(maindir+'plume01_entropy_all.nc')"
   ]
  },
  {
   "cell_type": "code",
   "execution_count": null,
   "metadata": {
    "collapsed": true
   },
   "outputs": [],
   "source": []
  }
 ],
 "metadata": {
  "kernelspec": {
   "display_name": "Python 3",
   "language": "python",
   "name": "python3"
  },
  "language_info": {
   "codemirror_mode": {
    "name": "ipython",
    "version": 3
   },
   "file_extension": ".py",
   "mimetype": "text/x-python",
   "name": "python",
   "nbconvert_exporter": "python",
   "pygments_lexer": "ipython3",
   "version": "3.6.1"
  }
 },
 "nbformat": 4,
 "nbformat_minor": 2
}
