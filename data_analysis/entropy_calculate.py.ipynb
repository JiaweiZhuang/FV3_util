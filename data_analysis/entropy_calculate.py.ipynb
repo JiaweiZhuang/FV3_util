{
 "cells": [
  {
   "cell_type": "code",
   "execution_count": 3,
   "metadata": {
    "collapsed": true
   },
   "outputs": [],
   "source": [
    "%matplotlib inline\n",
    "import numpy as np\n",
    "import xarray as xr\n",
    "import cubedsphere as cs"
   ]
  },
  {
   "cell_type": "code",
   "execution_count": 4,
   "metadata": {},
   "outputs": [
    {
     "name": "stdout",
     "output_type": "stream",
     "text": [
      "loading 48 20 calculating... writting...\n",
      "loading 48 40 calculating... writting...\n",
      "loading 48 80 calculating... writting...\n",
      "loading 48 160 calculating... writting...\n",
      "loading 96 20 calculating... writting...\n",
      "loading 96 40 calculating... writting...\n",
      "loading 96 80 calculating... writting...\n",
      "loading 96 160 calculating... writting...\n",
      "loading 192 20 calculating... writting...\n",
      "loading 192 40 calculating... writting...\n",
      "loading 192 80 calculating... writting...\n",
      "loading 192 160 calculating... writting...\n",
      "loading 384 20 calculating... writting...\n",
      "loading 384 40 calculating... writting...\n",
      "loading 384 80 calculating... writting...\n",
      "loading 384 160 calculating... writting...\n"
     ]
    }
   ],
   "source": [
    "Vres_list = [20,40,80,160]\n",
    "Hres_list = [48,96,192,384]\n",
    "eps = 1e-10\n",
    "\n",
    "for i,Hres in enumerate(Hres_list):\n",
    "    for j,Vres in enumerate(Vres_list):\n",
    "        print('loading',Hres,Vres,end=' ')\n",
    "        datadir = (\"../../output/C{0}/C{0}L{1}/\".format(Hres,Vres))\n",
    "        ds = cs.open_FV3data(datadir,\"tracer_daily\")\n",
    "        dr = ds['plume01'].load()\n",
    "        \n",
    "        dr.values[dr.values<eps] = eps # correct negative values\n",
    "        \n",
    "        print('calculating...',end=' ')\n",
    "        # higher-Vres layers are thiner\n",
    "        dr_entro = (-dr*np.log(dr)*dr['area']/1e9/Vres).sum(dim=['tile','pfull','y','x'])\n",
    "        \n",
    "        print('writting...',end='\\n')\n",
    "        dr_entro.to_netcdf('plume01_entropy_C{0}L{1}'.format(Hres,Vres))"
   ]
  },
  {
   "cell_type": "markdown",
   "metadata": {},
   "source": [
    "## Merge all files"
   ]
  },
  {
   "cell_type": "code",
   "execution_count": 5,
   "metadata": {},
   "outputs": [],
   "source": [
    "ds_HsVs_arr = [] # list of timeseries at different horizontal and vertical resolutions\n",
    "\n",
    "for Hres in Hres_list:\n",
    "    ds_Vs_arr = [] # list of timeseries at vertical different resolutions\n",
    "    for Vres in Vres_list:\n",
    "        \n",
    "        dr_temp =  xr.open_dataarray('plume01_entropy_C{0}L{1}'.format(Hres,Vres),decode_times=False)\n",
    "        ds_Vs_arr.append( dr_temp.copy()) \n",
    "            \n",
    "        ds_Vs = xr.concat(ds_Vs_arr, dim='Vres')\n",
    "        ds_Vs[\"Vres\"]=np.array(Vres_list)\n",
    "        \n",
    "    ds_HsVs_arr.append( ds_Vs )\n",
    "\n",
    "ds_HsVs = xr.concat(ds_HsVs_arr, dim='Hres')\n",
    "ds_HsVs[\"Hres\"]=np.array(Hres_list)"
   ]
  },
  {
   "cell_type": "code",
   "execution_count": 6,
   "metadata": {},
   "outputs": [],
   "source": [
    "ds_HsVs.to_netcdf('plume01_entropy_all.nc')"
   ]
  },
  {
   "cell_type": "code",
   "execution_count": null,
   "metadata": {
    "collapsed": true
   },
   "outputs": [],
   "source": []
  }
 ],
 "metadata": {
  "kernelspec": {
   "display_name": "Python 3",
   "language": "python",
   "name": "python3"
  },
  "language_info": {
   "codemirror_mode": {
    "name": "ipython",
    "version": 3
   },
   "file_extension": ".py",
   "mimetype": "text/x-python",
   "name": "python",
   "nbconvert_exporter": "python",
   "pygments_lexer": "ipython3",
   "version": "3.6.1"
  }
 },
 "nbformat": 4,
 "nbformat_minor": 2
}
